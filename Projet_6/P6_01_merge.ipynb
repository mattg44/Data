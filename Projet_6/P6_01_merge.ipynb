{
 "cells": [
  {
   "cell_type": "code",
   "execution_count": 1,
   "id": "2c4540db-7257-4def-9668-3795e95c2b5b",
   "metadata": {
    "jupyter": {
     "source_hidden": true
    },
    "tags": []
   },
   "outputs": [
    {
     "data": {
      "text/html": [
       "<img src=\"logo.jpg\",width=60,height=60>\n"
      ],
      "text/plain": [
       "<IPython.core.display.HTML object>"
      ]
     },
     "metadata": {},
     "output_type": "display_data"
    }
   ],
   "source": [
    "%%html\n",
    "<img src=\"logo.jpg\",width=60,height=60>"
   ]
  },
  {
   "cell_type": "markdown",
   "id": "7c623263-b53a-40a7-a192-dca92b2be780",
   "metadata": {},
   "source": [
    "Lapage était originellement une librairie physique avec plusieurs points de vente. Mais devant le succès de certains de ses produits et l’engouement de ses clients, elle a décidé depuis 2 ans d’ouvrir un site de vente en ligne.  \n",
    "Vous intervenez car l’entreprise souhaite faire le point après deux ans d’exercice, et pouvoir analyser ses points forts, ses points faibles, les comportements clients, etc."
   ]
  },
  {
   "cell_type": "code",
   "execution_count": 2,
   "id": "aeb7e4cf-a8b3-4d9b-8bd3-44e474e5efa8",
   "metadata": {},
   "outputs": [],
   "source": [
    "import numpy as np\n",
    "import pandas as pd\n",
    "import seaborn as sns\n",
    "import matplotlib.pyplot as plt\n",
    "import datetime\n",
    "from my_module import *\n",
    "\n",
    "sns.set(style=\"darkgrid\", palette=\"rainbow\")\n",
    "pd.set_option(\"display.float_format\", lambda x: \"%.2f\" % x)\n",
    "\n",
    "import warnings\n",
    "warnings.filterwarnings('ignore')"
   ]
  },
  {
   "cell_type": "code",
   "execution_count": 3,
   "id": "63a2e3f3-b7a4-4d98-b704-668e7eaf76dd",
   "metadata": {},
   "outputs": [],
   "source": [
    "df_customer = pd.read_csv(\"data/customers.csv\")\n",
    "df_product = pd.read_csv(\"data/products.csv\")\n",
    "df_transaction = pd.read_csv(\"data/transactions.csv\")"
   ]
  },
  {
   "cell_type": "markdown",
   "id": "da470d6a-0405-4c44-b95f-23064cf3cf4f",
   "metadata": {},
   "source": [
    "## Clients"
   ]
  },
  {
   "cell_type": "code",
   "execution_count": 4,
   "id": "2141a063-1a27-4265-bf53-a1664934b778",
   "metadata": {},
   "outputs": [
    {
     "data": {
      "text/html": [
       "<div><div id=a50ce742-1d5d-4cb3-9c1d-a5a06ea23ecc style=\"display:none; background-color:#9D6CFF; color:white; width:200px; height:30px; padding-left:5px; border-radius:4px; flex-direction:row; justify-content:space-around; align-items:center;\" onmouseover=\"this.style.backgroundColor='#BA9BF8'\" onmouseout=\"this.style.backgroundColor='#9D6CFF'\" onclick=\"window.commands?.execute('create-mitosheet-from-dataframe-output');\">See Full Dataframe in Mito</div> <script> if (window.commands.hasCommand('create-mitosheet-from-dataframe-output')) document.getElementById('a50ce742-1d5d-4cb3-9c1d-a5a06ea23ecc').style.display = 'flex' </script> <table border=\"1\" class=\"dataframe\">\n",
       "  <thead>\n",
       "    <tr style=\"text-align: right;\">\n",
       "      <th></th>\n",
       "      <th>client_id</th>\n",
       "      <th>sex</th>\n",
       "      <th>birth</th>\n",
       "    </tr>\n",
       "  </thead>\n",
       "  <tbody>\n",
       "    <tr>\n",
       "      <th>0</th>\n",
       "      <td>c_4410</td>\n",
       "      <td>f</td>\n",
       "      <td>1967</td>\n",
       "    </tr>\n",
       "    <tr>\n",
       "      <th>1</th>\n",
       "      <td>c_7839</td>\n",
       "      <td>f</td>\n",
       "      <td>1975</td>\n",
       "    </tr>\n",
       "    <tr>\n",
       "      <th>2</th>\n",
       "      <td>c_1699</td>\n",
       "      <td>f</td>\n",
       "      <td>1984</td>\n",
       "    </tr>\n",
       "    <tr>\n",
       "      <th>3</th>\n",
       "      <td>c_5961</td>\n",
       "      <td>f</td>\n",
       "      <td>1962</td>\n",
       "    </tr>\n",
       "    <tr>\n",
       "      <th>4</th>\n",
       "      <td>c_5320</td>\n",
       "      <td>m</td>\n",
       "      <td>1943</td>\n",
       "    </tr>\n",
       "  </tbody>\n",
       "</table></div>"
      ],
      "text/plain": [
       "  client_id sex  birth\n",
       "0    c_4410   f   1967\n",
       "1    c_7839   f   1975\n",
       "2    c_1699   f   1984\n",
       "3    c_5961   f   1962\n",
       "4    c_5320   m   1943"
      ]
     },
     "execution_count": 4,
     "metadata": {},
     "output_type": "execute_result"
    }
   ],
   "source": [
    "df_customer.head()"
   ]
  },
  {
   "cell_type": "code",
   "execution_count": 5,
   "id": "256ace06-42a7-4e02-9ac7-79dd58444003",
   "metadata": {},
   "outputs": [
    {
     "name": "stdout",
     "output_type": "stream",
     "text": [
      "<class 'pandas.core.frame.DataFrame'>\n",
      "RangeIndex: 8623 entries, 0 to 8622\n",
      "Data columns (total 3 columns):\n",
      " #   Column     Non-Null Count  Dtype \n",
      "---  ------     --------------  ----- \n",
      " 0   client_id  8623 non-null   object\n",
      " 1   sex        8623 non-null   object\n",
      " 2   birth      8623 non-null   int64 \n",
      "dtypes: int64(1), object(2)\n",
      "memory usage: 202.2+ KB\n"
     ]
    }
   ],
   "source": [
    "df_customer.info()"
   ]
  },
  {
   "cell_type": "markdown",
   "id": "6f1bd367-9b40-4ae8-b42f-64ee80dee9f6",
   "metadata": {},
   "source": [
    "Pas de valeurs nulles  \n",
    "8623 clients  \n",
    "Type de variable OK"
   ]
  },
  {
   "cell_type": "code",
   "execution_count": 6,
   "id": "9fc76cd6-4f90-4bc0-8ae5-34e587243a1e",
   "metadata": {},
   "outputs": [
    {
     "name": "stdout",
     "output_type": "stream",
     "text": [
      "client_id: uniqueness checked, potential primary key\n",
      "The variable sex is repeated 8621 times\n",
      "The variable birth is repeated 8547 times\n"
     ]
    }
   ],
   "source": [
    "search_uniqueness(df_customer)"
   ]
  },
  {
   "cell_type": "markdown",
   "id": "4273ed8d-df89-469b-9f76-415b7e8f5ce3",
   "metadata": {},
   "source": [
    "Pas de redondance dans le client_id"
   ]
  },
  {
   "cell_type": "code",
   "execution_count": 7,
   "id": "8c5da169-9215-4ba4-8b1a-fe0e6c9008d7",
   "metadata": {},
   "outputs": [
    {
     "name": "stdout",
     "output_type": "stream",
     "text": [
      "client_id\n",
      "Cardinality - The variable client_id has 8623 distinct values.\n",
      "--------------------------------------------------------------------------------\n",
      "sex\n",
      "['f' 'm']\n",
      "--------------------------------------------------------------------------------\n",
      "birth\n",
      "Cardinality - The variable birth has 76 distinct values.\n",
      "--------------------------------------------------------------------------------\n"
     ]
    }
   ],
   "source": [
    "search_cardinality(df_customer)"
   ]
  },
  {
   "cell_type": "markdown",
   "id": "fbdfcd00-1d9b-458a-869b-11e3c19dac55",
   "metadata": {},
   "source": [
    "Pas d'incohérence"
   ]
  },
  {
   "cell_type": "code",
   "execution_count": 8,
   "id": "848abe5f-eb23-4b5e-b0ae-3ced7d58feda",
   "metadata": {},
   "outputs": [
    {
     "data": {
      "text/plain": [
       "count   8623.00\n",
       "mean    1978.28\n",
       "std       16.92\n",
       "min     1929.00\n",
       "25%     1966.00\n",
       "50%     1979.00\n",
       "75%     1992.00\n",
       "max     2004.00\n",
       "Name: birth, dtype: float64"
      ]
     },
     "execution_count": 8,
     "metadata": {},
     "output_type": "execute_result"
    }
   ],
   "source": [
    "df_customer[\"birth\"].describe()"
   ]
  },
  {
   "cell_type": "markdown",
   "id": "b959b2d9-2ff0-49e5-882e-485740bc8ad6",
   "metadata": {},
   "source": [
    "Pas de valeurs aberrantes pour l'âge"
   ]
  },
  {
   "cell_type": "code",
   "execution_count": 9,
   "id": "25f979b8-5199-4797-b4b6-2538ee3a716e",
   "metadata": {},
   "outputs": [],
   "source": [
    "# Création de la variable âge à partir de l'année en cours !!! ventes en 2023 ?\n",
    "# currentDateTime = datetime.datetime.now()\n",
    "# date = currentDateTime.date()\n",
    "# year = date.year\n",
    "df_customer[\"age\"] = df_customer[\"birth\"].apply(lambda x: 2023 - x)"
   ]
  },
  {
   "cell_type": "code",
   "execution_count": 10,
   "id": "f1fd65c3-c5c4-4a77-bf3b-c98aa8dbddaa",
   "metadata": {},
   "outputs": [
    {
     "data": {
      "text/html": [
       "<div><div id=10118bdb-7bca-47cd-8981-3124c96b5f80 style=\"display:none; background-color:#9D6CFF; color:white; width:200px; height:30px; padding-left:5px; border-radius:4px; flex-direction:row; justify-content:space-around; align-items:center;\" onmouseover=\"this.style.backgroundColor='#BA9BF8'\" onmouseout=\"this.style.backgroundColor='#9D6CFF'\" onclick=\"window.commands?.execute('create-mitosheet-from-dataframe-output');\">See Full Dataframe in Mito</div> <script> if (window.commands.hasCommand('create-mitosheet-from-dataframe-output')) document.getElementById('10118bdb-7bca-47cd-8981-3124c96b5f80').style.display = 'flex' </script> <table border=\"1\" class=\"dataframe\">\n",
       "  <thead>\n",
       "    <tr style=\"text-align: right;\">\n",
       "      <th></th>\n",
       "      <th>client_id</th>\n",
       "      <th>sex</th>\n",
       "      <th>birth</th>\n",
       "      <th>age</th>\n",
       "    </tr>\n",
       "  </thead>\n",
       "  <tbody>\n",
       "    <tr>\n",
       "      <th>0</th>\n",
       "      <td>c_4410</td>\n",
       "      <td>f</td>\n",
       "      <td>1967</td>\n",
       "      <td>56</td>\n",
       "    </tr>\n",
       "    <tr>\n",
       "      <th>1</th>\n",
       "      <td>c_7839</td>\n",
       "      <td>f</td>\n",
       "      <td>1975</td>\n",
       "      <td>48</td>\n",
       "    </tr>\n",
       "    <tr>\n",
       "      <th>2</th>\n",
       "      <td>c_1699</td>\n",
       "      <td>f</td>\n",
       "      <td>1984</td>\n",
       "      <td>39</td>\n",
       "    </tr>\n",
       "    <tr>\n",
       "      <th>3</th>\n",
       "      <td>c_5961</td>\n",
       "      <td>f</td>\n",
       "      <td>1962</td>\n",
       "      <td>61</td>\n",
       "    </tr>\n",
       "    <tr>\n",
       "      <th>4</th>\n",
       "      <td>c_5320</td>\n",
       "      <td>m</td>\n",
       "      <td>1943</td>\n",
       "      <td>80</td>\n",
       "    </tr>\n",
       "  </tbody>\n",
       "</table></div>"
      ],
      "text/plain": [
       "  client_id sex  birth  age\n",
       "0    c_4410   f   1967   56\n",
       "1    c_7839   f   1975   48\n",
       "2    c_1699   f   1984   39\n",
       "3    c_5961   f   1962   61\n",
       "4    c_5320   m   1943   80"
      ]
     },
     "execution_count": 10,
     "metadata": {},
     "output_type": "execute_result"
    }
   ],
   "source": [
    "df_customer.head()"
   ]
  },
  {
   "cell_type": "markdown",
   "id": "444c84bd-4e83-40c7-aa6e-92f6e46bcf5e",
   "metadata": {},
   "source": [
    "## Produits"
   ]
  },
  {
   "cell_type": "code",
   "execution_count": 11,
   "id": "5784afd5-8953-4b2e-a0d1-4978ad0ad7d1",
   "metadata": {},
   "outputs": [
    {
     "data": {
      "text/html": [
       "<div><div id=d7945920-6766-416a-ba3b-aed1e28687b9 style=\"display:none; background-color:#9D6CFF; color:white; width:200px; height:30px; padding-left:5px; border-radius:4px; flex-direction:row; justify-content:space-around; align-items:center;\" onmouseover=\"this.style.backgroundColor='#BA9BF8'\" onmouseout=\"this.style.backgroundColor='#9D6CFF'\" onclick=\"window.commands?.execute('create-mitosheet-from-dataframe-output');\">See Full Dataframe in Mito</div> <script> if (window.commands.hasCommand('create-mitosheet-from-dataframe-output')) document.getElementById('d7945920-6766-416a-ba3b-aed1e28687b9').style.display = 'flex' </script> <table border=\"1\" class=\"dataframe\">\n",
       "  <thead>\n",
       "    <tr style=\"text-align: right;\">\n",
       "      <th></th>\n",
       "      <th>id_prod</th>\n",
       "      <th>price</th>\n",
       "      <th>categ</th>\n",
       "    </tr>\n",
       "  </thead>\n",
       "  <tbody>\n",
       "    <tr>\n",
       "      <th>0</th>\n",
       "      <td>0_1421</td>\n",
       "      <td>19.99</td>\n",
       "      <td>0</td>\n",
       "    </tr>\n",
       "    <tr>\n",
       "      <th>1</th>\n",
       "      <td>0_1368</td>\n",
       "      <td>5.13</td>\n",
       "      <td>0</td>\n",
       "    </tr>\n",
       "    <tr>\n",
       "      <th>2</th>\n",
       "      <td>0_731</td>\n",
       "      <td>17.99</td>\n",
       "      <td>0</td>\n",
       "    </tr>\n",
       "    <tr>\n",
       "      <th>3</th>\n",
       "      <td>1_587</td>\n",
       "      <td>4.99</td>\n",
       "      <td>1</td>\n",
       "    </tr>\n",
       "    <tr>\n",
       "      <th>4</th>\n",
       "      <td>0_1507</td>\n",
       "      <td>3.99</td>\n",
       "      <td>0</td>\n",
       "    </tr>\n",
       "  </tbody>\n",
       "</table></div>"
      ],
      "text/plain": [
       "  id_prod  price  categ\n",
       "0  0_1421  19.99      0\n",
       "1  0_1368   5.13      0\n",
       "2   0_731  17.99      0\n",
       "3   1_587   4.99      1\n",
       "4  0_1507   3.99      0"
      ]
     },
     "execution_count": 11,
     "metadata": {},
     "output_type": "execute_result"
    }
   ],
   "source": [
    "df_product.head()"
   ]
  },
  {
   "cell_type": "code",
   "execution_count": 12,
   "id": "b46238c4-9ca0-477a-919c-6807278c86a8",
   "metadata": {},
   "outputs": [
    {
     "name": "stdout",
     "output_type": "stream",
     "text": [
      "<class 'pandas.core.frame.DataFrame'>\n",
      "RangeIndex: 3287 entries, 0 to 3286\n",
      "Data columns (total 3 columns):\n",
      " #   Column   Non-Null Count  Dtype  \n",
      "---  ------   --------------  -----  \n",
      " 0   id_prod  3287 non-null   object \n",
      " 1   price    3287 non-null   float64\n",
      " 2   categ    3287 non-null   int64  \n",
      "dtypes: float64(1), int64(1), object(1)\n",
      "memory usage: 77.2+ KB\n"
     ]
    }
   ],
   "source": [
    "df_product.info()"
   ]
  },
  {
   "cell_type": "markdown",
   "id": "3719d0e7-4fe6-4cad-b363-83cf702b2f49",
   "metadata": {},
   "source": [
    "**3287 références, 3 variables  \n",
    "Pas de valeurs nulles  \n",
    "Attention type categ**"
   ]
  },
  {
   "cell_type": "code",
   "execution_count": 13,
   "id": "76d618ff-cc2c-4b69-9849-e1b9572f836a",
   "metadata": {},
   "outputs": [],
   "source": [
    "# Modification du type de categ\n",
    "df_product[\"categ\"] = df_product[\"categ\"].astype(\"category\")"
   ]
  },
  {
   "cell_type": "code",
   "execution_count": 14,
   "id": "cd23af11-5c9a-48e4-b9ad-5161361cf36e",
   "metadata": {},
   "outputs": [
    {
     "name": "stdout",
     "output_type": "stream",
     "text": [
      "id_prod: uniqueness checked, potential primary key\n",
      "The variable price is repeated 1832 times\n",
      "The variable categ is repeated 3284 times\n"
     ]
    }
   ],
   "source": [
    "# Recherche de valeurs uniques\n",
    "search_uniqueness(df_product)"
   ]
  },
  {
   "cell_type": "markdown",
   "id": "d6bdd4da-916d-481d-a7cc-c30d6cda9459",
   "metadata": {},
   "source": [
    "**Pas de doublons dans les id_prod**"
   ]
  },
  {
   "cell_type": "code",
   "execution_count": 15,
   "id": "f71864d4-6c84-4f93-b0f9-b8220c8cfb02",
   "metadata": {},
   "outputs": [
    {
     "name": "stdout",
     "output_type": "stream",
     "text": [
      "id_prod\n",
      "Cardinality - The variable id_prod has 3287 distinct values.\n",
      "--------------------------------------------------------------------------------\n",
      "price\n",
      "Cardinality - The variable price has 1455 distinct values.\n",
      "--------------------------------------------------------------------------------\n",
      "categ\n",
      "[0, 1, 2]\n",
      "Categories (3, int64): [0, 1, 2]\n",
      "--------------------------------------------------------------------------------\n"
     ]
    }
   ],
   "source": [
    "# Analyse de la cardinalité des variables\n",
    "search_cardinality(df_product)"
   ]
  },
  {
   "cell_type": "markdown",
   "id": "524773ed-efb7-42cf-91e5-ce02f5caafe6",
   "metadata": {},
   "source": [
    "**3 catégories de produits**"
   ]
  },
  {
   "cell_type": "code",
   "execution_count": 16,
   "id": "dbeb7ae6-80d1-441f-b515-83d7084b7deb",
   "metadata": {},
   "outputs": [
    {
     "data": {
      "text/plain": [
       "count   3287.00\n",
       "mean      21.86\n",
       "std       29.85\n",
       "min       -1.00\n",
       "25%        6.99\n",
       "50%       13.06\n",
       "75%       22.99\n",
       "max      300.00\n",
       "Name: price, dtype: float64"
      ]
     },
     "execution_count": 16,
     "metadata": {},
     "output_type": "execute_result"
    }
   ],
   "source": [
    "df_product[\"price\"].describe()"
   ]
  },
  {
   "cell_type": "markdown",
   "id": "bc4ad846-7356-402c-8627-40bbaa2785cb",
   "metadata": {},
   "source": [
    "**Produits avec une valeur négative**"
   ]
  },
  {
   "cell_type": "code",
   "execution_count": 17,
   "id": "a8344252-7a6f-4500-ad8c-e51f90b6e574",
   "metadata": {},
   "outputs": [
    {
     "name": "stderr",
     "output_type": "stream",
     "text": [
      "NumExpr defaulting to 4 threads.\n"
     ]
    },
    {
     "data": {
      "text/html": [
       "<div><div id=7b135cfc-4476-4ffa-92b0-370bf5e7af3f style=\"display:none; background-color:#9D6CFF; color:white; width:200px; height:30px; padding-left:5px; border-radius:4px; flex-direction:row; justify-content:space-around; align-items:center;\" onmouseover=\"this.style.backgroundColor='#BA9BF8'\" onmouseout=\"this.style.backgroundColor='#9D6CFF'\" onclick=\"window.commands?.execute('create-mitosheet-from-dataframe-output');\">See Full Dataframe in Mito</div> <script> if (window.commands.hasCommand('create-mitosheet-from-dataframe-output')) document.getElementById('7b135cfc-4476-4ffa-92b0-370bf5e7af3f').style.display = 'flex' </script> <table border=\"1\" class=\"dataframe\">\n",
       "  <thead>\n",
       "    <tr style=\"text-align: right;\">\n",
       "      <th></th>\n",
       "      <th>id_prod</th>\n",
       "      <th>price</th>\n",
       "      <th>categ</th>\n",
       "    </tr>\n",
       "  </thead>\n",
       "  <tbody>\n",
       "    <tr>\n",
       "      <th>731</th>\n",
       "      <td>T_0</td>\n",
       "      <td>-1.00</td>\n",
       "      <td>0</td>\n",
       "    </tr>\n",
       "  </tbody>\n",
       "</table></div>"
      ],
      "text/plain": [
       "    id_prod  price categ\n",
       "731     T_0  -1.00     0"
      ]
     },
     "execution_count": 17,
     "metadata": {},
     "output_type": "execute_result"
    }
   ],
   "source": [
    "df_product[df_product[\"price\"] <= 0]"
   ]
  },
  {
   "cell_type": "code",
   "execution_count": 18,
   "id": "d7fc72ac-51bf-4b9c-bf0b-d9f08694e1ac",
   "metadata": {},
   "outputs": [
    {
     "data": {
      "text/html": [
       "<div><div id=6095f961-58c5-4a4d-8379-60342b188470 style=\"display:none; background-color:#9D6CFF; color:white; width:200px; height:30px; padding-left:5px; border-radius:4px; flex-direction:row; justify-content:space-around; align-items:center;\" onmouseover=\"this.style.backgroundColor='#BA9BF8'\" onmouseout=\"this.style.backgroundColor='#9D6CFF'\" onclick=\"window.commands?.execute('create-mitosheet-from-dataframe-output');\">See Full Dataframe in Mito</div> <script> if (window.commands.hasCommand('create-mitosheet-from-dataframe-output')) document.getElementById('6095f961-58c5-4a4d-8379-60342b188470').style.display = 'flex' </script> <table border=\"1\" class=\"dataframe\">\n",
       "  <thead>\n",
       "    <tr style=\"text-align: right;\">\n",
       "      <th></th>\n",
       "      <th>id_prod</th>\n",
       "      <th>date</th>\n",
       "      <th>session_id</th>\n",
       "      <th>client_id</th>\n",
       "    </tr>\n",
       "  </thead>\n",
       "  <tbody>\n",
       "    <tr>\n",
       "      <th>3019</th>\n",
       "      <td>T_0</td>\n",
       "      <td>test_2021-03-01 02:30:02.237419</td>\n",
       "      <td>s_0</td>\n",
       "      <td>ct_0</td>\n",
       "    </tr>\n",
       "    <tr>\n",
       "      <th>5138</th>\n",
       "      <td>T_0</td>\n",
       "      <td>test_2021-03-01 02:30:02.237425</td>\n",
       "      <td>s_0</td>\n",
       "      <td>ct_0</td>\n",
       "    </tr>\n",
       "    <tr>\n",
       "      <th>9668</th>\n",
       "      <td>T_0</td>\n",
       "      <td>test_2021-03-01 02:30:02.237437</td>\n",
       "      <td>s_0</td>\n",
       "      <td>ct_1</td>\n",
       "    </tr>\n",
       "    <tr>\n",
       "      <th>10728</th>\n",
       "      <td>T_0</td>\n",
       "      <td>test_2021-03-01 02:30:02.237436</td>\n",
       "      <td>s_0</td>\n",
       "      <td>ct_0</td>\n",
       "    </tr>\n",
       "    <tr>\n",
       "      <th>15292</th>\n",
       "      <td>T_0</td>\n",
       "      <td>test_2021-03-01 02:30:02.237430</td>\n",
       "      <td>s_0</td>\n",
       "      <td>ct_0</td>\n",
       "    </tr>\n",
       "    <tr>\n",
       "      <th>...</th>\n",
       "      <td>...</td>\n",
       "      <td>...</td>\n",
       "      <td>...</td>\n",
       "      <td>...</td>\n",
       "    </tr>\n",
       "    <tr>\n",
       "      <th>657830</th>\n",
       "      <td>T_0</td>\n",
       "      <td>test_2021-03-01 02:30:02.237417</td>\n",
       "      <td>s_0</td>\n",
       "      <td>ct_0</td>\n",
       "    </tr>\n",
       "    <tr>\n",
       "      <th>662081</th>\n",
       "      <td>T_0</td>\n",
       "      <td>test_2021-03-01 02:30:02.237427</td>\n",
       "      <td>s_0</td>\n",
       "      <td>ct_1</td>\n",
       "    </tr>\n",
       "    <tr>\n",
       "      <th>670680</th>\n",
       "      <td>T_0</td>\n",
       "      <td>test_2021-03-01 02:30:02.237449</td>\n",
       "      <td>s_0</td>\n",
       "      <td>ct_1</td>\n",
       "    </tr>\n",
       "    <tr>\n",
       "      <th>671647</th>\n",
       "      <td>T_0</td>\n",
       "      <td>test_2021-03-01 02:30:02.237424</td>\n",
       "      <td>s_0</td>\n",
       "      <td>ct_1</td>\n",
       "    </tr>\n",
       "    <tr>\n",
       "      <th>679180</th>\n",
       "      <td>T_0</td>\n",
       "      <td>test_2021-03-01 02:30:02.237425</td>\n",
       "      <td>s_0</td>\n",
       "      <td>ct_1</td>\n",
       "    </tr>\n",
       "  </tbody>\n",
       "</table></div>"
      ],
      "text/plain": [
       "       id_prod                             date session_id client_id\n",
       "3019       T_0  test_2021-03-01 02:30:02.237419        s_0      ct_0\n",
       "5138       T_0  test_2021-03-01 02:30:02.237425        s_0      ct_0\n",
       "9668       T_0  test_2021-03-01 02:30:02.237437        s_0      ct_1\n",
       "10728      T_0  test_2021-03-01 02:30:02.237436        s_0      ct_0\n",
       "15292      T_0  test_2021-03-01 02:30:02.237430        s_0      ct_0\n",
       "...        ...                              ...        ...       ...\n",
       "657830     T_0  test_2021-03-01 02:30:02.237417        s_0      ct_0\n",
       "662081     T_0  test_2021-03-01 02:30:02.237427        s_0      ct_1\n",
       "670680     T_0  test_2021-03-01 02:30:02.237449        s_0      ct_1\n",
       "671647     T_0  test_2021-03-01 02:30:02.237424        s_0      ct_1\n",
       "679180     T_0  test_2021-03-01 02:30:02.237425        s_0      ct_1\n",
       "\n",
       "[200 rows x 4 columns]"
      ]
     },
     "execution_count": 18,
     "metadata": {},
     "output_type": "execute_result"
    }
   ],
   "source": [
    "df_transaction[df_transaction[\"id_prod\"] == \"T_0\"]"
   ]
  },
  {
   "cell_type": "code",
   "execution_count": 19,
   "id": "ba964004-b55c-4c99-9957-555b7b184657",
   "metadata": {},
   "outputs": [
    {
     "data": {
      "text/plain": [
       "(200, 4)"
      ]
     },
     "execution_count": 19,
     "metadata": {},
     "output_type": "execute_result"
    }
   ],
   "source": [
    "df_transaction[df_transaction[\"id_prod\"] == \"T_0\"].shape"
   ]
  },
  {
   "cell_type": "markdown",
   "id": "dfe422b2-5ef7-4d69-a785-6734295d9438",
   "metadata": {},
   "source": [
    "**200 transactions tests avec le produit T_0 au prix négatif enrégistrées lors du lancement du site ecommerce le 1er mars 2021.  \n",
    "Produit et transactions à supprimer**"
   ]
  },
  {
   "cell_type": "code",
   "execution_count": 20,
   "id": "8e6c644b-3d58-474d-8bb0-995da2de2db8",
   "metadata": {},
   "outputs": [],
   "source": [
    "# Suppresion article T_0\n",
    "df_product.drop(df_product[df_product[\"id_prod\"] == \"T_0\"].index, inplace=True)"
   ]
  },
  {
   "cell_type": "code",
   "execution_count": 21,
   "id": "2fcd4bfc-dff5-49f7-9cba-07edd1d83daf",
   "metadata": {},
   "outputs": [],
   "source": [
    "# Suppresion transactions avec article T_0\n",
    "df_transaction.drop(df_transaction[df_transaction[\"id_prod\"] == \"T_0\"].index, inplace=True)"
   ]
  },
  {
   "cell_type": "code",
   "execution_count": 22,
   "id": "d7fa73c5-6aec-4d1e-b999-2a63f032e7bd",
   "metadata": {},
   "outputs": [
    {
     "data": {
      "image/png": "[encoded data removed]",
      "text/plain": [
       "<Figure size 1080x720 with 2 Axes>"
      ]
     },
     "metadata": {},
     "output_type": "display_data"
    }
   ],
   "source": [
    "# Analyse de la distribution des prix\n",
    "f, (ax_box, ax_hist) = plt.subplots(2, sharex=True, gridspec_kw={\"height_ratios\": (.15, .85)})\n",
    "f.set_figheight(10)\n",
    "f.set_figwidth(15)\n",
    "plt.title(\"Distibution des prix\")\n",
    "sns.boxplot(df_product[\"price\"], ax=ax_box)\n",
    "sns.distplot(a=df_product[\"price\"], hist=True, kde=True, bins=30, ax=ax_hist)\n",
    "ax_box.set(xlabel='')\n",
    "plt.show();"
   ]
  },
  {
   "cell_type": "markdown",
   "id": "da5fa9aa-35c3-496a-ad19-9cb7a83466f9",
   "metadata": {},
   "source": [
    "**Présence de nombreux outliers.  \n",
    "Analyse par catégorie plus pertinente**"
   ]
  },
  {
   "cell_type": "code",
   "execution_count": 23,
   "id": "da91d83d-f1d7-4141-a388-8f9c13b0c3b5",
   "metadata": {},
   "outputs": [
    {
     "data": {
      "image/png": "[encoded data removed]",
      "text/plain": [
       "<Figure size 720x576 with 1 Axes>"
      ]
     },
     "metadata": {},
     "output_type": "display_data"
    }
   ],
   "source": [
    "# Distribution des prix par catégorie\n",
    "plt.figure(figsize=(10, 8))\n",
    "sns.boxplot(x=df_product[\"categ\"], y=df_product[\"price\"])\n",
    "plt.title(\"Distribution des prix par catégorie\")\n",
    "plt.show();"
   ]
  },
  {
   "cell_type": "markdown",
   "id": "794bb444-f25f-4ac8-a2d2-2d42529da7d2",
   "metadata": {},
   "source": [
    "**Catégorie 2 : probablement des livres de collection d'une plus grande valeur. Pas de valeurs aberrantes.  \n",
    "On conserve ces datas**"
   ]
  },
  {
   "cell_type": "markdown",
   "id": "8eb90c4a-8280-45a3-8631-e45d7614ed39",
   "metadata": {},
   "source": [
    "## Transactions"
   ]
  },
  {
   "cell_type": "code",
   "execution_count": 24,
   "id": "efa15c74-a7d6-4e45-b6e4-b7efd34011e0",
   "metadata": {},
   "outputs": [
    {
     "data": {
      "text/html": [
       "<div><div id=746076f2-61eb-4484-95bb-f18f3ae00257 style=\"display:none; background-color:#9D6CFF; color:white; width:200px; height:30px; padding-left:5px; border-radius:4px; flex-direction:row; justify-content:space-around; align-items:center;\" onmouseover=\"this.style.backgroundColor='#BA9BF8'\" onmouseout=\"this.style.backgroundColor='#9D6CFF'\" onclick=\"window.commands?.execute('create-mitosheet-from-dataframe-output');\">See Full Dataframe in Mito</div> <script> if (window.commands.hasCommand('create-mitosheet-from-dataframe-output')) document.getElementById('746076f2-61eb-4484-95bb-f18f3ae00257').style.display = 'flex' </script> <table border=\"1\" class=\"dataframe\">\n",
       "  <thead>\n",
       "    <tr style=\"text-align: right;\">\n",
       "      <th></th>\n",
       "      <th>id_prod</th>\n",
       "      <th>date</th>\n",
       "      <th>session_id</th>\n",
       "      <th>client_id</th>\n",
       "    </tr>\n",
       "  </thead>\n",
       "  <tbody>\n",
       "    <tr>\n",
       "      <th>0</th>\n",
       "      <td>0_1518</td>\n",
       "      <td>2022-05-20 13:21:29.043970</td>\n",
       "      <td>s_211425</td>\n",
       "      <td>c_103</td>\n",
       "    </tr>\n",
       "    <tr>\n",
       "      <th>1</th>\n",
       "      <td>1_251</td>\n",
       "      <td>2022-02-02 07:55:19.149409</td>\n",
       "      <td>s_158752</td>\n",
       "      <td>c_8534</td>\n",
       "    </tr>\n",
       "    <tr>\n",
       "      <th>2</th>\n",
       "      <td>0_1277</td>\n",
       "      <td>2022-06-18 15:44:33.155329</td>\n",
       "      <td>s_225667</td>\n",
       "      <td>c_6714</td>\n",
       "    </tr>\n",
       "    <tr>\n",
       "      <th>3</th>\n",
       "      <td>2_209</td>\n",
       "      <td>2021-06-24 04:19:29.835891</td>\n",
       "      <td>s_52962</td>\n",
       "      <td>c_6941</td>\n",
       "    </tr>\n",
       "    <tr>\n",
       "      <th>4</th>\n",
       "      <td>0_1509</td>\n",
       "      <td>2023-01-11 08:22:08.194479</td>\n",
       "      <td>s_325227</td>\n",
       "      <td>c_4232</td>\n",
       "    </tr>\n",
       "  </tbody>\n",
       "</table></div>"
      ],
      "text/plain": [
       "  id_prod                        date session_id client_id\n",
       "0  0_1518  2022-05-20 13:21:29.043970   s_211425     c_103\n",
       "1   1_251  2022-02-02 07:55:19.149409   s_158752    c_8534\n",
       "2  0_1277  2022-06-18 15:44:33.155329   s_225667    c_6714\n",
       "3   2_209  2021-06-24 04:19:29.835891    s_52962    c_6941\n",
       "4  0_1509  2023-01-11 08:22:08.194479   s_325227    c_4232"
      ]
     },
     "execution_count": 24,
     "metadata": {},
     "output_type": "execute_result"
    }
   ],
   "source": [
    "df_transaction.head()"
   ]
  },
  {
   "cell_type": "markdown",
   "id": "3e4c48bc-4be6-4d43-aa44-f2fa1a58e120",
   "metadata": {},
   "source": [
    "**Transactions en 2022 et 2023 !!!  \n",
    "Compte tenu de la précison des données (id_prod, session_id et client_id) pour les transactions \"futures\", il ne peut s'agir de prévisions.  \n",
    "Il est donc judicieux de situer notre analyse en 2023.**"
   ]
  },
  {
   "cell_type": "code",
   "execution_count": 25,
   "id": "163a9222-17b7-438c-8951-87ac376a2ed5",
   "metadata": {},
   "outputs": [
    {
     "name": "stdout",
     "output_type": "stream",
     "text": [
      "<class 'pandas.core.frame.DataFrame'>\n",
      "Int64Index: 679332 entries, 0 to 679531\n",
      "Data columns (total 4 columns):\n",
      " #   Column      Non-Null Count   Dtype \n",
      "---  ------      --------------   ----- \n",
      " 0   id_prod     679332 non-null  object\n",
      " 1   date        679332 non-null  object\n",
      " 2   session_id  679332 non-null  object\n",
      " 3   client_id   679332 non-null  object\n",
      "dtypes: object(4)\n",
      "memory usage: 25.9+ MB\n"
     ]
    }
   ],
   "source": [
    "df_transaction.info()"
   ]
  },
  {
   "cell_type": "markdown",
   "id": "ed965a24-08a2-4f57-b82b-eae7375f1654",
   "metadata": {},
   "source": [
    "**Aucune valeur nulle, modifier le type de date.**"
   ]
  },
  {
   "cell_type": "code",
   "execution_count": 26,
   "id": "5a79bab4-0336-4285-a981-357a805170c5",
   "metadata": {},
   "outputs": [],
   "source": [
    "# Séparation date et heure\n",
    "df_transaction['time'] = pd.to_datetime(df_transaction['date']).dt.time\n",
    "df_transaction['date'] = pd.to_datetime(df_transaction['date']).dt.date\n",
    "df_transaction['date'] = pd.to_datetime(df_transaction['date'])"
   ]
  },
  {
   "cell_type": "code",
   "execution_count": 27,
   "id": "958498a8-8d49-4e0c-8d74-e3e82d379ca7",
   "metadata": {},
   "outputs": [
    {
     "data": {
      "text/html": [
       "<div><div id=1bf0cd9d-c1e1-4d56-86ca-9402ee8aa3f9 style=\"display:none; background-color:#9D6CFF; color:white; width:200px; height:30px; padding-left:5px; border-radius:4px; flex-direction:row; justify-content:space-around; align-items:center;\" onmouseover=\"this.style.backgroundColor='#BA9BF8'\" onmouseout=\"this.style.backgroundColor='#9D6CFF'\" onclick=\"window.commands?.execute('create-mitosheet-from-dataframe-output');\">See Full Dataframe in Mito</div> <script> if (window.commands.hasCommand('create-mitosheet-from-dataframe-output')) document.getElementById('1bf0cd9d-c1e1-4d56-86ca-9402ee8aa3f9').style.display = 'flex' </script> <table border=\"1\" class=\"dataframe\">\n",
       "  <thead>\n",
       "    <tr style=\"text-align: right;\">\n",
       "      <th></th>\n",
       "      <th>id_prod</th>\n",
       "      <th>date</th>\n",
       "      <th>session_id</th>\n",
       "      <th>client_id</th>\n",
       "      <th>time</th>\n",
       "    </tr>\n",
       "  </thead>\n",
       "  <tbody>\n",
       "    <tr>\n",
       "      <th>0</th>\n",
       "      <td>0_1518</td>\n",
       "      <td>2022-05-20</td>\n",
       "      <td>s_211425</td>\n",
       "      <td>c_103</td>\n",
       "      <td>13:21:29.043970</td>\n",
       "    </tr>\n",
       "    <tr>\n",
       "      <th>1</th>\n",
       "      <td>1_251</td>\n",
       "      <td>2022-02-02</td>\n",
       "      <td>s_158752</td>\n",
       "      <td>c_8534</td>\n",
       "      <td>07:55:19.149409</td>\n",
       "    </tr>\n",
       "    <tr>\n",
       "      <th>2</th>\n",
       "      <td>0_1277</td>\n",
       "      <td>2022-06-18</td>\n",
       "      <td>s_225667</td>\n",
       "      <td>c_6714</td>\n",
       "      <td>15:44:33.155329</td>\n",
       "    </tr>\n",
       "    <tr>\n",
       "      <th>3</th>\n",
       "      <td>2_209</td>\n",
       "      <td>2021-06-24</td>\n",
       "      <td>s_52962</td>\n",
       "      <td>c_6941</td>\n",
       "      <td>04:19:29.835891</td>\n",
       "    </tr>\n",
       "    <tr>\n",
       "      <th>4</th>\n",
       "      <td>0_1509</td>\n",
       "      <td>2023-01-11</td>\n",
       "      <td>s_325227</td>\n",
       "      <td>c_4232</td>\n",
       "      <td>08:22:08.194479</td>\n",
       "    </tr>\n",
       "  </tbody>\n",
       "</table></div>"
      ],
      "text/plain": [
       "  id_prod       date session_id client_id             time\n",
       "0  0_1518 2022-05-20   s_211425     c_103  13:21:29.043970\n",
       "1   1_251 2022-02-02   s_158752    c_8534  07:55:19.149409\n",
       "2  0_1277 2022-06-18   s_225667    c_6714  15:44:33.155329\n",
       "3   2_209 2021-06-24    s_52962    c_6941  04:19:29.835891\n",
       "4  0_1509 2023-01-11   s_325227    c_4232  08:22:08.194479"
      ]
     },
     "execution_count": 27,
     "metadata": {},
     "output_type": "execute_result"
    }
   ],
   "source": [
    "df_transaction.head()"
   ]
  },
  {
   "cell_type": "code",
   "execution_count": 28,
   "id": "1200ff5d-75ed-43e0-bd82-d826a1c0cfdd",
   "metadata": {},
   "outputs": [
    {
     "name": "stdout",
     "output_type": "stream",
     "text": [
      "<class 'pandas.core.frame.DataFrame'>\n",
      "Int64Index: 679332 entries, 0 to 679531\n",
      "Data columns (total 5 columns):\n",
      " #   Column      Non-Null Count   Dtype         \n",
      "---  ------      --------------   -----         \n",
      " 0   id_prod     679332 non-null  object        \n",
      " 1   date        679332 non-null  datetime64[ns]\n",
      " 2   session_id  679332 non-null  object        \n",
      " 3   client_id   679332 non-null  object        \n",
      " 4   time        679332 non-null  object        \n",
      "dtypes: datetime64[ns](1), object(4)\n",
      "memory usage: 31.1+ MB\n"
     ]
    }
   ],
   "source": [
    "df_transaction.info()"
   ]
  },
  {
   "cell_type": "code",
   "execution_count": 29,
   "id": "7108eacf-828c-4909-b82d-0ec215cbebdc",
   "metadata": {},
   "outputs": [
    {
     "name": "stdout",
     "output_type": "stream",
     "text": [
      "The variable id_prod is repeated 676066 times\n",
      "The variable date is repeated 678602 times\n",
      "The variable session_id is repeated 337017 times\n",
      "The variable client_id is repeated 670732 times\n",
      "The variable time is repeated 341516 times\n"
     ]
    }
   ],
   "source": [
    "search_uniqueness(df_transaction)"
   ]
  },
  {
   "cell_type": "markdown",
   "id": "488c3f55-1a86-4310-88aa-13b03203f7c1",
   "metadata": {},
   "source": [
    "Pas de valeurs uniques, classe d'association"
   ]
  },
  {
   "cell_type": "code",
   "execution_count": 30,
   "id": "9a520696-7efe-4aec-9ef4-c2920076b3d8",
   "metadata": {},
   "outputs": [
    {
     "name": "stdout",
     "output_type": "stream",
     "text": [
      "id_prod\n",
      "Cardinality - The variable id_prod has 3266 distinct values.\n",
      "--------------------------------------------------------------------------------\n",
      "date\n",
      "Cardinality - The variable date has 730 distinct values.\n",
      "--------------------------------------------------------------------------------\n",
      "session_id\n",
      "Cardinality - The variable session_id has 342315 distinct values.\n",
      "--------------------------------------------------------------------------------\n",
      "client_id\n",
      "Cardinality - The variable client_id has 8600 distinct values.\n",
      "--------------------------------------------------------------------------------\n",
      "time\n",
      "Cardinality - The variable time has 337816 distinct values.\n",
      "--------------------------------------------------------------------------------\n"
     ]
    }
   ],
   "source": [
    "search_cardinality(df_transaction)"
   ]
  },
  {
   "cell_type": "code",
   "execution_count": 31,
   "id": "f372fec9-9eda-4805-95ab-e352e252bb3f",
   "metadata": {},
   "outputs": [
    {
     "name": "stdout",
     "output_type": "stream",
     "text": [
      "342315 transactions (paniers) pour 679332 articles vendus,\n",
      "soit 1.98 articles en moyenne par panier.\n"
     ]
    }
   ],
   "source": [
    "panier = df_transaction[\"session_id\"].nunique()\n",
    "article = df_transaction[\"session_id\"].size\n",
    "ratio = article / panier\n",
    "print(f\"{panier} transactions (paniers) pour {article} articles vendus,\")\n",
    "print(f\"soit {ratio:,.2f} articles en moyenne par panier.\")"
   ]
  },
  {
   "cell_type": "code",
   "execution_count": 32,
   "id": "e56a0658-caf5-49b1-b555-ab206f5d1143",
   "metadata": {},
   "outputs": [
    {
     "data": {
      "text/html": [
       "<div><div id=7dd3cecd-a486-4e64-82b6-d87d2621a986 style=\"display:none; background-color:#9D6CFF; color:white; width:200px; height:30px; padding-left:5px; border-radius:4px; flex-direction:row; justify-content:space-around; align-items:center;\" onmouseover=\"this.style.backgroundColor='#BA9BF8'\" onmouseout=\"this.style.backgroundColor='#9D6CFF'\" onclick=\"window.commands?.execute('create-mitosheet-from-dataframe-output');\">See Full Dataframe in Mito</div> <script> if (window.commands.hasCommand('create-mitosheet-from-dataframe-output')) document.getElementById('7dd3cecd-a486-4e64-82b6-d87d2621a986').style.display = 'flex' </script> <table border=\"1\" class=\"dataframe\">\n",
       "  <thead>\n",
       "    <tr style=\"text-align: right;\">\n",
       "      <th></th>\n",
       "      <th>id_prod</th>\n",
       "      <th>date</th>\n",
       "      <th>session_id</th>\n",
       "      <th>client_id</th>\n",
       "      <th>time</th>\n",
       "    </tr>\n",
       "  </thead>\n",
       "  <tbody>\n",
       "    <tr>\n",
       "      <th>0</th>\n",
       "      <td>0_1518</td>\n",
       "      <td>2022-05-20</td>\n",
       "      <td>s_211425</td>\n",
       "      <td>c_103</td>\n",
       "      <td>13:21:29.043970</td>\n",
       "    </tr>\n",
       "    <tr>\n",
       "      <th>1</th>\n",
       "      <td>1_251</td>\n",
       "      <td>2022-02-02</td>\n",
       "      <td>s_158752</td>\n",
       "      <td>c_8534</td>\n",
       "      <td>07:55:19.149409</td>\n",
       "    </tr>\n",
       "    <tr>\n",
       "      <th>2</th>\n",
       "      <td>0_1277</td>\n",
       "      <td>2022-06-18</td>\n",
       "      <td>s_225667</td>\n",
       "      <td>c_6714</td>\n",
       "      <td>15:44:33.155329</td>\n",
       "    </tr>\n",
       "    <tr>\n",
       "      <th>3</th>\n",
       "      <td>2_209</td>\n",
       "      <td>2021-06-24</td>\n",
       "      <td>s_52962</td>\n",
       "      <td>c_6941</td>\n",
       "      <td>04:19:29.835891</td>\n",
       "    </tr>\n",
       "    <tr>\n",
       "      <th>4</th>\n",
       "      <td>0_1509</td>\n",
       "      <td>2023-01-11</td>\n",
       "      <td>s_325227</td>\n",
       "      <td>c_4232</td>\n",
       "      <td>08:22:08.194479</td>\n",
       "    </tr>\n",
       "  </tbody>\n",
       "</table></div>"
      ],
      "text/plain": [
       "  id_prod       date session_id client_id             time\n",
       "0  0_1518 2022-05-20   s_211425     c_103  13:21:29.043970\n",
       "1   1_251 2022-02-02   s_158752    c_8534  07:55:19.149409\n",
       "2  0_1277 2022-06-18   s_225667    c_6714  15:44:33.155329\n",
       "3   2_209 2021-06-24    s_52962    c_6941  04:19:29.835891\n",
       "4  0_1509 2023-01-11   s_325227    c_4232  08:22:08.194479"
      ]
     },
     "execution_count": 32,
     "metadata": {},
     "output_type": "execute_result"
    }
   ],
   "source": [
    "df_transaction.head()"
   ]
  },
  {
   "cell_type": "code",
   "execution_count": 33,
   "id": "6b5cbd03-2903-401c-8f62-fb5db19516e9",
   "metadata": {},
   "outputs": [
    {
     "name": "stdout",
     "output_type": "stream",
     "text": [
      "0 duplicates have been removed\n"
     ]
    }
   ],
   "source": [
    "remove_duplicates(df_transaction)"
   ]
  },
  {
   "cell_type": "markdown",
   "id": "8a81cf0a-ca52-423c-83a2-114cd1881fb8",
   "metadata": {},
   "source": [
    "## Jointure des 3 df"
   ]
  },
  {
   "cell_type": "code",
   "execution_count": 34,
   "id": "23d02b06-0d11-4ace-a8f7-08a411af8fa4",
   "metadata": {},
   "outputs": [],
   "source": [
    "df = df_transaction.merge(df_product, how=\"outer\", on=\"id_prod\", indicator=True)"
   ]
  },
  {
   "cell_type": "code",
   "execution_count": 35,
   "id": "0e5587c1-2f38-4488-bd0d-b3451583bb57",
   "metadata": {},
   "outputs": [
    {
     "data": {
      "text/html": [
       "<div><div id=b138c411-95a0-4f36-9404-22ef173eccd2 style=\"display:none; background-color:#9D6CFF; color:white; width:200px; height:30px; padding-left:5px; border-radius:4px; flex-direction:row; justify-content:space-around; align-items:center;\" onmouseover=\"this.style.backgroundColor='#BA9BF8'\" onmouseout=\"this.style.backgroundColor='#9D6CFF'\" onclick=\"window.commands?.execute('create-mitosheet-from-dataframe-output');\">See Full Dataframe in Mito</div> <script> if (window.commands.hasCommand('create-mitosheet-from-dataframe-output')) document.getElementById('b138c411-95a0-4f36-9404-22ef173eccd2').style.display = 'flex' </script> <table border=\"1\" class=\"dataframe\">\n",
       "  <thead>\n",
       "    <tr style=\"text-align: right;\">\n",
       "      <th></th>\n",
       "      <th>id_prod</th>\n",
       "      <th>date</th>\n",
       "      <th>session_id</th>\n",
       "      <th>client_id</th>\n",
       "      <th>time</th>\n",
       "      <th>price</th>\n",
       "      <th>categ</th>\n",
       "      <th>_merge</th>\n",
       "    </tr>\n",
       "  </thead>\n",
       "  <tbody>\n",
       "    <tr>\n",
       "      <th>0</th>\n",
       "      <td>0_1518</td>\n",
       "      <td>2022-05-20</td>\n",
       "      <td>s_211425</td>\n",
       "      <td>c_103</td>\n",
       "      <td>13:21:29.043970</td>\n",
       "      <td>4.18</td>\n",
       "      <td>0</td>\n",
       "      <td>both</td>\n",
       "    </tr>\n",
       "    <tr>\n",
       "      <th>1</th>\n",
       "      <td>0_1518</td>\n",
       "      <td>2021-09-26</td>\n",
       "      <td>s_95811</td>\n",
       "      <td>c_6197</td>\n",
       "      <td>12:37:29.780414</td>\n",
       "      <td>4.18</td>\n",
       "      <td>0</td>\n",
       "      <td>both</td>\n",
       "    </tr>\n",
       "    <tr>\n",
       "      <th>2</th>\n",
       "      <td>0_1518</td>\n",
       "      <td>2021-05-06</td>\n",
       "      <td>s_30782</td>\n",
       "      <td>c_682</td>\n",
       "      <td>17:14:43.117440</td>\n",
       "      <td>4.18</td>\n",
       "      <td>0</td>\n",
       "      <td>both</td>\n",
       "    </tr>\n",
       "    <tr>\n",
       "      <th>3</th>\n",
       "      <td>0_1518</td>\n",
       "      <td>2022-03-16</td>\n",
       "      <td>s_180057</td>\n",
       "      <td>c_5932</td>\n",
       "      <td>18:57:10.420103</td>\n",
       "      <td>4.18</td>\n",
       "      <td>0</td>\n",
       "      <td>both</td>\n",
       "    </tr>\n",
       "    <tr>\n",
       "      <th>4</th>\n",
       "      <td>0_1518</td>\n",
       "      <td>2022-11-12</td>\n",
       "      <td>s_296584</td>\n",
       "      <td>c_7217</td>\n",
       "      <td>18:58:10.574853</td>\n",
       "      <td>4.18</td>\n",
       "      <td>0</td>\n",
       "      <td>both</td>\n",
       "    </tr>\n",
       "  </tbody>\n",
       "</table></div>"
      ],
      "text/plain": [
       "  id_prod       date session_id client_id             time  price categ _merge\n",
       "0  0_1518 2022-05-20   s_211425     c_103  13:21:29.043970   4.18     0   both\n",
       "1  0_1518 2021-09-26    s_95811    c_6197  12:37:29.780414   4.18     0   both\n",
       "2  0_1518 2021-05-06    s_30782     c_682  17:14:43.117440   4.18     0   both\n",
       "3  0_1518 2022-03-16   s_180057    c_5932  18:57:10.420103   4.18     0   both\n",
       "4  0_1518 2022-11-12   s_296584    c_7217  18:58:10.574853   4.18     0   both"
      ]
     },
     "execution_count": 35,
     "metadata": {},
     "output_type": "execute_result"
    }
   ],
   "source": [
    "df.head()"
   ]
  },
  {
   "cell_type": "code",
   "execution_count": 36,
   "id": "3c8dcafc-7074-4076-8156-833ce5e793fd",
   "metadata": {},
   "outputs": [
    {
     "data": {
      "text/plain": [
       "['both', 'left_only', 'right_only']\n",
       "Categories (3, object): ['both', 'left_only', 'right_only']"
      ]
     },
     "execution_count": 36,
     "metadata": {},
     "output_type": "execute_result"
    }
   ],
   "source": [
    "df[\"_merge\"].unique()"
   ]
  },
  {
   "cell_type": "code",
   "execution_count": 37,
   "id": "b50c4f8c-4a38-4066-853e-e4897e2d192a",
   "metadata": {},
   "outputs": [
    {
     "data": {
      "text/html": [
       "<div><div id=7a6ac344-4a4f-4ddf-97fe-3b0dbf1e619b style=\"display:none; background-color:#9D6CFF; color:white; width:200px; height:30px; padding-left:5px; border-radius:4px; flex-direction:row; justify-content:space-around; align-items:center;\" onmouseover=\"this.style.backgroundColor='#BA9BF8'\" onmouseout=\"this.style.backgroundColor='#9D6CFF'\" onclick=\"window.commands?.execute('create-mitosheet-from-dataframe-output');\">See Full Dataframe in Mito</div> <script> if (window.commands.hasCommand('create-mitosheet-from-dataframe-output')) document.getElementById('7a6ac344-4a4f-4ddf-97fe-3b0dbf1e619b').style.display = 'flex' </script> <table border=\"1\" class=\"dataframe\">\n",
       "  <thead>\n",
       "    <tr style=\"text-align: right;\">\n",
       "      <th></th>\n",
       "      <th>id_prod</th>\n",
       "      <th>date</th>\n",
       "      <th>session_id</th>\n",
       "      <th>client_id</th>\n",
       "      <th>time</th>\n",
       "      <th>price</th>\n",
       "      <th>categ</th>\n",
       "      <th>_merge</th>\n",
       "    </tr>\n",
       "  </thead>\n",
       "  <tbody>\n",
       "    <tr>\n",
       "      <th>542560</th>\n",
       "      <td>0_2245</td>\n",
       "      <td>2022-09-23</td>\n",
       "      <td>s_272266</td>\n",
       "      <td>c_4746</td>\n",
       "      <td>07:22:38.636773</td>\n",
       "      <td>NaN</td>\n",
       "      <td>NaN</td>\n",
       "      <td>left_only</td>\n",
       "    </tr>\n",
       "    <tr>\n",
       "      <th>542561</th>\n",
       "      <td>0_2245</td>\n",
       "      <td>2022-07-23</td>\n",
       "      <td>s_242482</td>\n",
       "      <td>c_6713</td>\n",
       "      <td>09:24:14.133889</td>\n",
       "      <td>NaN</td>\n",
       "      <td>NaN</td>\n",
       "      <td>left_only</td>\n",
       "    </tr>\n",
       "    <tr>\n",
       "      <th>542562</th>\n",
       "      <td>0_2245</td>\n",
       "      <td>2022-12-03</td>\n",
       "      <td>s_306338</td>\n",
       "      <td>c_5108</td>\n",
       "      <td>03:26:35.696673</td>\n",
       "      <td>NaN</td>\n",
       "      <td>NaN</td>\n",
       "      <td>left_only</td>\n",
       "    </tr>\n",
       "    <tr>\n",
       "      <th>542563</th>\n",
       "      <td>0_2245</td>\n",
       "      <td>2021-08-16</td>\n",
       "      <td>s_76493</td>\n",
       "      <td>c_1391</td>\n",
       "      <td>11:33:25.481411</td>\n",
       "      <td>NaN</td>\n",
       "      <td>NaN</td>\n",
       "      <td>left_only</td>\n",
       "    </tr>\n",
       "    <tr>\n",
       "      <th>542564</th>\n",
       "      <td>0_2245</td>\n",
       "      <td>2022-07-16</td>\n",
       "      <td>s_239078</td>\n",
       "      <td>c_7954</td>\n",
       "      <td>05:53:01.627491</td>\n",
       "      <td>NaN</td>\n",
       "      <td>NaN</td>\n",
       "      <td>left_only</td>\n",
       "    </tr>\n",
       "    <tr>\n",
       "      <th>...</th>\n",
       "      <td>...</td>\n",
       "      <td>...</td>\n",
       "      <td>...</td>\n",
       "      <td>...</td>\n",
       "      <td>...</td>\n",
       "      <td>...</td>\n",
       "      <td>...</td>\n",
       "      <td>...</td>\n",
       "    </tr>\n",
       "    <tr>\n",
       "      <th>542776</th>\n",
       "      <td>0_2245</td>\n",
       "      <td>2021-08-25</td>\n",
       "      <td>s_80395</td>\n",
       "      <td>c_131</td>\n",
       "      <td>09:06:03.504061</td>\n",
       "      <td>NaN</td>\n",
       "      <td>NaN</td>\n",
       "      <td>left_only</td>\n",
       "    </tr>\n",
       "    <tr>\n",
       "      <th>542777</th>\n",
       "      <td>0_2245</td>\n",
       "      <td>2022-03-06</td>\n",
       "      <td>s_175311</td>\n",
       "      <td>c_4167</td>\n",
       "      <td>19:59:19.462288</td>\n",
       "      <td>NaN</td>\n",
       "      <td>NaN</td>\n",
       "      <td>left_only</td>\n",
       "    </tr>\n",
       "    <tr>\n",
       "      <th>542778</th>\n",
       "      <td>0_2245</td>\n",
       "      <td>2022-05-16</td>\n",
       "      <td>s_209381</td>\n",
       "      <td>c_4453</td>\n",
       "      <td>11:35:20.319501</td>\n",
       "      <td>NaN</td>\n",
       "      <td>NaN</td>\n",
       "      <td>left_only</td>\n",
       "    </tr>\n",
       "    <tr>\n",
       "      <th>542779</th>\n",
       "      <td>0_2245</td>\n",
       "      <td>2022-02-11</td>\n",
       "      <td>s_163405</td>\n",
       "      <td>c_1098</td>\n",
       "      <td>09:05:43.952857</td>\n",
       "      <td>NaN</td>\n",
       "      <td>NaN</td>\n",
       "      <td>left_only</td>\n",
       "    </tr>\n",
       "    <tr>\n",
       "      <th>542780</th>\n",
       "      <td>0_2245</td>\n",
       "      <td>2021-12-14</td>\n",
       "      <td>s_134446</td>\n",
       "      <td>c_4854</td>\n",
       "      <td>22:34:54.589921</td>\n",
       "      <td>NaN</td>\n",
       "      <td>NaN</td>\n",
       "      <td>left_only</td>\n",
       "    </tr>\n",
       "  </tbody>\n",
       "</table></div>"
      ],
      "text/plain": [
       "       id_prod       date session_id client_id             time  price categ  \\\n",
       "542560  0_2245 2022-09-23   s_272266    c_4746  07:22:38.636773    NaN   NaN   \n",
       "542561  0_2245 2022-07-23   s_242482    c_6713  09:24:14.133889    NaN   NaN   \n",
       "542562  0_2245 2022-12-03   s_306338    c_5108  03:26:35.696673    NaN   NaN   \n",
       "542563  0_2245 2021-08-16    s_76493    c_1391  11:33:25.481411    NaN   NaN   \n",
       "542564  0_2245 2022-07-16   s_239078    c_7954  05:53:01.627491    NaN   NaN   \n",
       "...        ...        ...        ...       ...              ...    ...   ...   \n",
       "542776  0_2245 2021-08-25    s_80395     c_131  09:06:03.504061    NaN   NaN   \n",
       "542777  0_2245 2022-03-06   s_175311    c_4167  19:59:19.462288    NaN   NaN   \n",
       "542778  0_2245 2022-05-16   s_209381    c_4453  11:35:20.319501    NaN   NaN   \n",
       "542779  0_2245 2022-02-11   s_163405    c_1098  09:05:43.952857    NaN   NaN   \n",
       "542780  0_2245 2021-12-14   s_134446    c_4854  22:34:54.589921    NaN   NaN   \n",
       "\n",
       "           _merge  \n",
       "542560  left_only  \n",
       "542561  left_only  \n",
       "542562  left_only  \n",
       "542563  left_only  \n",
       "542564  left_only  \n",
       "...           ...  \n",
       "542776  left_only  \n",
       "542777  left_only  \n",
       "542778  left_only  \n",
       "542779  left_only  \n",
       "542780  left_only  \n",
       "\n",
       "[221 rows x 8 columns]"
      ]
     },
     "execution_count": 37,
     "metadata": {},
     "output_type": "execute_result"
    }
   ],
   "source": [
    "df[df[\"_merge\"] == \"left_only\"]"
   ]
  },
  {
   "cell_type": "code",
   "execution_count": 38,
   "id": "27423099-f6eb-4386-a1cb-7098375178f2",
   "metadata": {},
   "outputs": [
    {
     "data": {
      "text/plain": [
       "array(['0_2245'], dtype=object)"
      ]
     },
     "execution_count": 38,
     "metadata": {},
     "output_type": "execute_result"
    }
   ],
   "source": [
    "df[df[\"_merge\"] == \"left_only\"][\"id_prod\"].unique()"
   ]
  },
  {
   "cell_type": "code",
   "execution_count": 39,
   "id": "ad95853a-959f-435d-bf3f-25fba68d30cb",
   "metadata": {},
   "outputs": [
    {
     "data": {
      "text/plain": [
       "221"
      ]
     },
     "execution_count": 39,
     "metadata": {},
     "output_type": "execute_result"
    }
   ],
   "source": [
    "df[df[\"id_prod\"] == \"0_2245\"].shape[0]"
   ]
  },
  {
   "cell_type": "markdown",
   "id": "763cbf6a-f641-449a-883c-4e030981b937",
   "metadata": {},
   "source": [
    "La référence id_prod 0_2245 a enregistré 221 transactions mais n'a pas de correspondance dans df_product"
   ]
  },
  {
   "cell_type": "code",
   "execution_count": 40,
   "id": "23bbac7c-a57a-42c1-bb59-90942e61da8a",
   "metadata": {},
   "outputs": [
    {
     "data": {
      "text/plain": [
       "0.032530952244267705"
      ]
     },
     "execution_count": 40,
     "metadata": {},
     "output_type": "execute_result"
    }
   ],
   "source": [
    " df[df[\"id_prod\"] == \"0_2245\"].shape[0] * 100 / df.shape[0]"
   ]
  },
  {
   "cell_type": "markdown",
   "id": "eef363bd-f4bc-49f3-8610-f8ad021b3a92",
   "metadata": {},
   "source": [
    "Cela représente 0,03 % du dataset. On pourrait raisonnablement les supprimer.\n",
    "Intuition : le 1er chiffre de \"id_prod\" semble correspondre à la catégorie.\n",
    "Si exact, possibilité de fillna avec la moyenne, mode ou mediane ?"
   ]
  },
  {
   "cell_type": "code",
   "execution_count": 41,
   "id": "e4a3cae0-218f-434e-961e-dc6a31264013",
   "metadata": {},
   "outputs": [],
   "source": [
    "df_temp = df[(df[\"id_prod\"].notnull()) & (df[\"id_prod\"] != \"0_2245\")]"
   ]
  },
  {
   "cell_type": "code",
   "execution_count": 42,
   "id": "cf65a669-ac21-45aa-bd6c-d55dd8756138",
   "metadata": {},
   "outputs": [
    {
     "data": {
      "text/html": [
       "<div><div id=be021d11-4055-4edc-841e-eccdaa4fac02 style=\"display:none; background-color:#9D6CFF; color:white; width:200px; height:30px; padding-left:5px; border-radius:4px; flex-direction:row; justify-content:space-around; align-items:center;\" onmouseover=\"this.style.backgroundColor='#BA9BF8'\" onmouseout=\"this.style.backgroundColor='#9D6CFF'\" onclick=\"window.commands?.execute('create-mitosheet-from-dataframe-output');\">See Full Dataframe in Mito</div> <script> if (window.commands.hasCommand('create-mitosheet-from-dataframe-output')) document.getElementById('be021d11-4055-4edc-841e-eccdaa4fac02').style.display = 'flex' </script> <table border=\"1\" class=\"dataframe\">\n",
       "  <thead>\n",
       "    <tr style=\"text-align: right;\">\n",
       "      <th></th>\n",
       "      <th>id_prod</th>\n",
       "      <th>date</th>\n",
       "      <th>session_id</th>\n",
       "      <th>client_id</th>\n",
       "      <th>time</th>\n",
       "      <th>price</th>\n",
       "      <th>categ</th>\n",
       "      <th>_merge</th>\n",
       "    </tr>\n",
       "  </thead>\n",
       "  <tbody>\n",
       "    <tr>\n",
       "      <th>0</th>\n",
       "      <td>0_1518</td>\n",
       "      <td>2022-05-20</td>\n",
       "      <td>s_211425</td>\n",
       "      <td>c_103</td>\n",
       "      <td>13:21:29.043970</td>\n",
       "      <td>4.18</td>\n",
       "      <td>0</td>\n",
       "      <td>both</td>\n",
       "    </tr>\n",
       "    <tr>\n",
       "      <th>1</th>\n",
       "      <td>0_1518</td>\n",
       "      <td>2021-09-26</td>\n",
       "      <td>s_95811</td>\n",
       "      <td>c_6197</td>\n",
       "      <td>12:37:29.780414</td>\n",
       "      <td>4.18</td>\n",
       "      <td>0</td>\n",
       "      <td>both</td>\n",
       "    </tr>\n",
       "    <tr>\n",
       "      <th>2</th>\n",
       "      <td>0_1518</td>\n",
       "      <td>2021-05-06</td>\n",
       "      <td>s_30782</td>\n",
       "      <td>c_682</td>\n",
       "      <td>17:14:43.117440</td>\n",
       "      <td>4.18</td>\n",
       "      <td>0</td>\n",
       "      <td>both</td>\n",
       "    </tr>\n",
       "    <tr>\n",
       "      <th>3</th>\n",
       "      <td>0_1518</td>\n",
       "      <td>2022-03-16</td>\n",
       "      <td>s_180057</td>\n",
       "      <td>c_5932</td>\n",
       "      <td>18:57:10.420103</td>\n",
       "      <td>4.18</td>\n",
       "      <td>0</td>\n",
       "      <td>both</td>\n",
       "    </tr>\n",
       "    <tr>\n",
       "      <th>4</th>\n",
       "      <td>0_1518</td>\n",
       "      <td>2022-11-12</td>\n",
       "      <td>s_296584</td>\n",
       "      <td>c_7217</td>\n",
       "      <td>18:58:10.574853</td>\n",
       "      <td>4.18</td>\n",
       "      <td>0</td>\n",
       "      <td>both</td>\n",
       "    </tr>\n",
       "  </tbody>\n",
       "</table></div>"
      ],
      "text/plain": [
       "  id_prod       date session_id client_id             time  price categ _merge\n",
       "0  0_1518 2022-05-20   s_211425     c_103  13:21:29.043970   4.18     0   both\n",
       "1  0_1518 2021-09-26    s_95811    c_6197  12:37:29.780414   4.18     0   both\n",
       "2  0_1518 2021-05-06    s_30782     c_682  17:14:43.117440   4.18     0   both\n",
       "3  0_1518 2022-03-16   s_180057    c_5932  18:57:10.420103   4.18     0   both\n",
       "4  0_1518 2022-11-12   s_296584    c_7217  18:58:10.574853   4.18     0   both"
      ]
     },
     "execution_count": 42,
     "metadata": {},
     "output_type": "execute_result"
    }
   ],
   "source": [
    "df_temp.head()"
   ]
  },
  {
   "cell_type": "code",
   "execution_count": 43,
   "id": "1e018159-a885-4516-8f6d-76a6d8a665c9",
   "metadata": {},
   "outputs": [],
   "source": [
    "df_temp[\"categ_comp\"] = df_temp[\"id_prod\"].str.split(\"_\", expand=True)[0]"
   ]
  },
  {
   "cell_type": "code",
   "execution_count": 44,
   "id": "1c4f147f-409a-41f3-bcbb-a07bfe4d7c5f",
   "metadata": {},
   "outputs": [
    {
     "name": "stdout",
     "output_type": "stream",
     "text": [
      "<class 'pandas.core.frame.DataFrame'>\n",
      "Int64Index: 679132 entries, 0 to 679352\n",
      "Data columns (total 9 columns):\n",
      " #   Column      Non-Null Count   Dtype         \n",
      "---  ------      --------------   -----         \n",
      " 0   id_prod     679132 non-null  object        \n",
      " 1   date        679111 non-null  datetime64[ns]\n",
      " 2   session_id  679111 non-null  object        \n",
      " 3   client_id   679111 non-null  object        \n",
      " 4   time        679111 non-null  object        \n",
      " 5   price       679132 non-null  float64       \n",
      " 6   categ       679132 non-null  category      \n",
      " 7   _merge      679132 non-null  category      \n",
      " 8   categ_comp  679132 non-null  object        \n",
      "dtypes: category(2), datetime64[ns](1), float64(1), object(5)\n",
      "memory usage: 42.7+ MB\n"
     ]
    }
   ],
   "source": [
    "df_temp.info()"
   ]
  },
  {
   "cell_type": "code",
   "execution_count": 45,
   "id": "0adf760c-d168-46fe-bdb6-d2669679a9fc",
   "metadata": {},
   "outputs": [],
   "source": [
    "# Cast de categ et categ_comp en integer pour les comparer\n",
    "df_temp[\"categ\"] = pd.to_numeric(df_temp[\"categ\"], downcast=\"integer\")\n",
    "df_temp[\"categ_comp\"] = pd.to_numeric(df_temp[\"categ_comp\"], downcast=\"integer\")"
   ]
  },
  {
   "cell_type": "code",
   "execution_count": 46,
   "id": "d95ca772-4646-443e-a4d3-e1ef8a1b2498",
   "metadata": {},
   "outputs": [
    {
     "data": {
      "text/plain": [
       "True"
      ]
     },
     "execution_count": 46,
     "metadata": {},
     "output_type": "execute_result"
    }
   ],
   "source": [
    "# Vérification de l'égalité des 2 variables\n",
    "df_temp[\"categ\"].equals(df_temp[\"categ_comp\"])"
   ]
  },
  {
   "cell_type": "markdown",
   "id": "22bbbc20-d18b-4596-adba-07801e137f72",
   "metadata": {},
   "source": [
    "OK, on peut affirmer que le 1er chiffre de id_prod correspond à la catégorie."
   ]
  },
  {
   "cell_type": "markdown",
   "id": "19c77006-c094-4bf7-b79b-8606a62a1e54",
   "metadata": {},
   "source": [
    "Analyse du prix de la catégorie 0 :"
   ]
  },
  {
   "cell_type": "code",
   "execution_count": 47,
   "id": "a3d525ac-1205-442a-9d8e-6d818830e864",
   "metadata": {},
   "outputs": [
    {
     "data": {
      "text/plain": [
       "<AxesSubplot:xlabel='price', ylabel='Density'>"
      ]
     },
     "execution_count": 47,
     "metadata": {},
     "output_type": "execute_result"
    },
    {
     "data": {
      "image/png": "[encoded data removed]",
      "text/plain": [
       "<Figure size 432x288 with 1 Axes>"
      ]
     },
     "metadata": {},
     "output_type": "display_data"
    }
   ],
   "source": [
    "sns.distplot(df[df[\"categ\"] == 0][\"price\"])"
   ]
  },
  {
   "cell_type": "code",
   "execution_count": 48,
   "id": "cbae28d5-5e38-4f06-bd04-44385465c247",
   "metadata": {},
   "outputs": [
    {
     "data": {
      "text/plain": [
       "count   415475.00\n",
       "mean        10.64\n",
       "std          4.93\n",
       "min          0.62\n",
       "25%          6.29\n",
       "50%          9.99\n",
       "75%         14.45\n",
       "max         40.99\n",
       "Name: price, dtype: float64"
      ]
     },
     "execution_count": 48,
     "metadata": {},
     "output_type": "execute_result"
    }
   ],
   "source": [
    "df[df[\"categ\"] == 0][\"price\"].describe()"
   ]
  },
  {
   "cell_type": "code",
   "execution_count": 49,
   "id": "2bf8a1f2-8c38-4936-8fba-321f3aad6449",
   "metadata": {},
   "outputs": [
    {
     "data": {
      "text/plain": [
       "<AxesSubplot:xlabel='price'>"
      ]
     },
     "execution_count": 49,
     "metadata": {},
     "output_type": "execute_result"
    },
    {
     "data": {
      "image/png": "[encoded data removed]",
      "text/plain": [
       "<Figure size 432x288 with 1 Axes>"
      ]
     },
     "metadata": {},
     "output_type": "display_data"
    }
   ],
   "source": [
    "sns.boxplot(x=\"price\", data=df[df[\"categ\"] == 0])"
   ]
  },
  {
   "cell_type": "markdown",
   "id": "e9b8f532-9ba0-4bf5-82da-69d9e67b80a3",
   "metadata": {},
   "source": [
    "Utilisation de la médiane pour le fillna"
   ]
  },
  {
   "cell_type": "code",
   "execution_count": 50,
   "id": "d709b7a1-d64e-40d5-a950-c96ed422111e",
   "metadata": {},
   "outputs": [],
   "source": [
    "df.fillna({\"price\": df[df[\"categ\"] == 0][\"price\"].median(), \"categ\": 0}, inplace=True)"
   ]
  },
  {
   "cell_type": "code",
   "execution_count": 51,
   "id": "e889aeea-e80d-45eb-9fe1-505dada61527",
   "metadata": {},
   "outputs": [
    {
     "name": "stdout",
     "output_type": "stream",
     "text": [
      "<class 'pandas.core.frame.DataFrame'>\n",
      "Int64Index: 679353 entries, 0 to 679352\n",
      "Data columns (total 8 columns):\n",
      " #   Column      Non-Null Count   Dtype         \n",
      "---  ------      --------------   -----         \n",
      " 0   id_prod     679353 non-null  object        \n",
      " 1   date        679332 non-null  datetime64[ns]\n",
      " 2   session_id  679332 non-null  object        \n",
      " 3   client_id   679332 non-null  object        \n",
      " 4   time        679332 non-null  object        \n",
      " 5   price       679353 non-null  float64       \n",
      " 6   categ       679353 non-null  category      \n",
      " 7   _merge      679353 non-null  category      \n",
      "dtypes: category(2), datetime64[ns](1), float64(1), object(4)\n",
      "memory usage: 37.6+ MB\n"
     ]
    }
   ],
   "source": [
    "df.info()"
   ]
  },
  {
   "cell_type": "code",
   "execution_count": 52,
   "id": "26975b2d-72f1-4cdb-b2fb-094023946779",
   "metadata": {},
   "outputs": [
    {
     "data": {
      "text/html": [
       "<div><div id=cffe4a2d-0c59-4ab8-ab79-4688aa45ce88 style=\"display:none; background-color:#9D6CFF; color:white; width:200px; height:30px; padding-left:5px; border-radius:4px; flex-direction:row; justify-content:space-around; align-items:center;\" onmouseover=\"this.style.backgroundColor='#BA9BF8'\" onmouseout=\"this.style.backgroundColor='#9D6CFF'\" onclick=\"window.commands?.execute('create-mitosheet-from-dataframe-output');\">See Full Dataframe in Mito</div> <script> if (window.commands.hasCommand('create-mitosheet-from-dataframe-output')) document.getElementById('cffe4a2d-0c59-4ab8-ab79-4688aa45ce88').style.display = 'flex' </script> <table border=\"1\" class=\"dataframe\">\n",
       "  <thead>\n",
       "    <tr style=\"text-align: right;\">\n",
       "      <th></th>\n",
       "      <th>id_prod</th>\n",
       "      <th>date</th>\n",
       "      <th>session_id</th>\n",
       "      <th>client_id</th>\n",
       "      <th>time</th>\n",
       "      <th>price</th>\n",
       "      <th>categ</th>\n",
       "      <th>_merge</th>\n",
       "    </tr>\n",
       "  </thead>\n",
       "  <tbody>\n",
       "    <tr>\n",
       "      <th>679332</th>\n",
       "      <td>0_1016</td>\n",
       "      <td>NaT</td>\n",
       "      <td>NaN</td>\n",
       "      <td>NaN</td>\n",
       "      <td>NaN</td>\n",
       "      <td>35.06</td>\n",
       "      <td>0</td>\n",
       "      <td>right_only</td>\n",
       "    </tr>\n",
       "    <tr>\n",
       "      <th>679333</th>\n",
       "      <td>0_1780</td>\n",
       "      <td>NaT</td>\n",
       "      <td>NaN</td>\n",
       "      <td>NaN</td>\n",
       "      <td>NaN</td>\n",
       "      <td>1.67</td>\n",
       "      <td>0</td>\n",
       "      <td>right_only</td>\n",
       "    </tr>\n",
       "    <tr>\n",
       "      <th>679334</th>\n",
       "      <td>0_1062</td>\n",
       "      <td>NaT</td>\n",
       "      <td>NaN</td>\n",
       "      <td>NaN</td>\n",
       "      <td>NaN</td>\n",
       "      <td>20.08</td>\n",
       "      <td>0</td>\n",
       "      <td>right_only</td>\n",
       "    </tr>\n",
       "    <tr>\n",
       "      <th>679335</th>\n",
       "      <td>0_1119</td>\n",
       "      <td>NaT</td>\n",
       "      <td>NaN</td>\n",
       "      <td>NaN</td>\n",
       "      <td>NaN</td>\n",
       "      <td>2.99</td>\n",
       "      <td>0</td>\n",
       "      <td>right_only</td>\n",
       "    </tr>\n",
       "    <tr>\n",
       "      <th>679336</th>\n",
       "      <td>0_1014</td>\n",
       "      <td>NaT</td>\n",
       "      <td>NaN</td>\n",
       "      <td>NaN</td>\n",
       "      <td>NaN</td>\n",
       "      <td>1.15</td>\n",
       "      <td>0</td>\n",
       "      <td>right_only</td>\n",
       "    </tr>\n",
       "    <tr>\n",
       "      <th>...</th>\n",
       "      <td>...</td>\n",
       "      <td>...</td>\n",
       "      <td>...</td>\n",
       "      <td>...</td>\n",
       "      <td>...</td>\n",
       "      <td>...</td>\n",
       "      <td>...</td>\n",
       "      <td>...</td>\n",
       "    </tr>\n",
       "    <tr>\n",
       "      <th>679348</th>\n",
       "      <td>0_1624</td>\n",
       "      <td>NaT</td>\n",
       "      <td>NaN</td>\n",
       "      <td>NaN</td>\n",
       "      <td>NaN</td>\n",
       "      <td>24.50</td>\n",
       "      <td>0</td>\n",
       "      <td>right_only</td>\n",
       "    </tr>\n",
       "    <tr>\n",
       "      <th>679349</th>\n",
       "      <td>2_86</td>\n",
       "      <td>NaT</td>\n",
       "      <td>NaN</td>\n",
       "      <td>NaN</td>\n",
       "      <td>NaN</td>\n",
       "      <td>132.36</td>\n",
       "      <td>2</td>\n",
       "      <td>right_only</td>\n",
       "    </tr>\n",
       "    <tr>\n",
       "      <th>679350</th>\n",
       "      <td>0_299</td>\n",
       "      <td>NaT</td>\n",
       "      <td>NaN</td>\n",
       "      <td>NaN</td>\n",
       "      <td>NaN</td>\n",
       "      <td>22.99</td>\n",
       "      <td>0</td>\n",
       "      <td>right_only</td>\n",
       "    </tr>\n",
       "    <tr>\n",
       "      <th>679351</th>\n",
       "      <td>0_510</td>\n",
       "      <td>NaT</td>\n",
       "      <td>NaN</td>\n",
       "      <td>NaN</td>\n",
       "      <td>NaN</td>\n",
       "      <td>23.66</td>\n",
       "      <td>0</td>\n",
       "      <td>right_only</td>\n",
       "    </tr>\n",
       "    <tr>\n",
       "      <th>679352</th>\n",
       "      <td>0_2308</td>\n",
       "      <td>NaT</td>\n",
       "      <td>NaN</td>\n",
       "      <td>NaN</td>\n",
       "      <td>NaN</td>\n",
       "      <td>20.28</td>\n",
       "      <td>0</td>\n",
       "      <td>right_only</td>\n",
       "    </tr>\n",
       "  </tbody>\n",
       "</table></div>"
      ],
      "text/plain": [
       "       id_prod date session_id client_id time  price categ      _merge\n",
       "679332  0_1016  NaT        NaN       NaN  NaN  35.06     0  right_only\n",
       "679333  0_1780  NaT        NaN       NaN  NaN   1.67     0  right_only\n",
       "679334  0_1062  NaT        NaN       NaN  NaN  20.08     0  right_only\n",
       "679335  0_1119  NaT        NaN       NaN  NaN   2.99     0  right_only\n",
       "679336  0_1014  NaT        NaN       NaN  NaN   1.15     0  right_only\n",
       "679337     1_0  NaT        NaN       NaN  NaN  31.82     1  right_only\n",
       "679338  0_1318  NaT        NaN       NaN  NaN  20.92     0  right_only\n",
       "679339  0_1800  NaT        NaN       NaN  NaN  22.05     0  right_only\n",
       "679340  0_1645  NaT        NaN       NaN  NaN   2.99     0  right_only\n",
       "679341   0_322  NaT        NaN       NaN  NaN   2.99     0  right_only\n",
       "679342  0_1620  NaT        NaN       NaN  NaN   0.80     0  right_only\n",
       "679343  0_1025  NaT        NaN       NaN  NaN  24.99     0  right_only\n",
       "679344    2_87  NaT        NaN       NaN  NaN 220.99     2  right_only\n",
       "679345   1_394  NaT        NaN       NaN  NaN  39.73     1  right_only\n",
       "679346    2_72  NaT        NaN       NaN  NaN 141.32     2  right_only\n",
       "679347   0_310  NaT        NaN       NaN  NaN   1.94     0  right_only\n",
       "679348  0_1624  NaT        NaN       NaN  NaN  24.50     0  right_only\n",
       "679349    2_86  NaT        NaN       NaN  NaN 132.36     2  right_only\n",
       "679350   0_299  NaT        NaN       NaN  NaN  22.99     0  right_only\n",
       "679351   0_510  NaT        NaN       NaN  NaN  23.66     0  right_only\n",
       "679352  0_2308  NaT        NaN       NaN  NaN  20.28     0  right_only"
      ]
     },
     "execution_count": 52,
     "metadata": {},
     "output_type": "execute_result"
    }
   ],
   "source": [
    "# Merge transaction / product\n",
    "df[df[\"_merge\"] == \"right_only\"]"
   ]
  },
  {
   "cell_type": "markdown",
   "id": "25563484-fbd9-44e2-abf7-27d5e64a6b26",
   "metadata": {},
   "source": [
    "Il s'agit des produits invendus. Création d'un df_invendu et suppression de ses produits du df"
   ]
  },
  {
   "cell_type": "code",
   "execution_count": 53,
   "id": "921fb7e1-6e04-437a-89f9-bd292051b308",
   "metadata": {},
   "outputs": [],
   "source": [
    "df_invendu = df[df[\"_merge\"] == \"right_only\"]\n",
    "df = df[df[\"_merge\"] != \"right_only\"]"
   ]
  },
  {
   "cell_type": "code",
   "execution_count": 54,
   "id": "8dccbeed-c979-4fc8-9e70-95bb79b9daac",
   "metadata": {},
   "outputs": [
    {
     "name": "stdout",
     "output_type": "stream",
     "text": [
      "<class 'pandas.core.frame.DataFrame'>\n",
      "Int64Index: 21 entries, 679332 to 679352\n",
      "Data columns (total 8 columns):\n",
      " #   Column      Non-Null Count  Dtype         \n",
      "---  ------      --------------  -----         \n",
      " 0   id_prod     21 non-null     object        \n",
      " 1   date        0 non-null      datetime64[ns]\n",
      " 2   session_id  0 non-null      object        \n",
      " 3   client_id   0 non-null      object        \n",
      " 4   time        0 non-null      object        \n",
      " 5   price       21 non-null     float64       \n",
      " 6   categ       21 non-null     category      \n",
      " 7   _merge      21 non-null     category      \n",
      "dtypes: category(2), datetime64[ns](1), float64(1), object(4)\n",
      "memory usage: 1.4+ KB\n"
     ]
    }
   ],
   "source": [
    "df_invendu.info()"
   ]
  },
  {
   "cell_type": "markdown",
   "id": "93471bef-9489-4cfd-8e3c-406663f07f06",
   "metadata": {},
   "source": [
    "21 références invendues"
   ]
  },
  {
   "cell_type": "code",
   "execution_count": 55,
   "id": "0c6ae25a-520c-4463-9f4b-f058690369e8",
   "metadata": {},
   "outputs": [
    {
     "name": "stdout",
     "output_type": "stream",
     "text": [
      "<class 'pandas.core.frame.DataFrame'>\n",
      "Int64Index: 679332 entries, 0 to 679331\n",
      "Data columns (total 8 columns):\n",
      " #   Column      Non-Null Count   Dtype         \n",
      "---  ------      --------------   -----         \n",
      " 0   id_prod     679332 non-null  object        \n",
      " 1   date        679332 non-null  datetime64[ns]\n",
      " 2   session_id  679332 non-null  object        \n",
      " 3   client_id   679332 non-null  object        \n",
      " 4   time        679332 non-null  object        \n",
      " 5   price       679332 non-null  float64       \n",
      " 6   categ       679332 non-null  category      \n",
      " 7   _merge      679332 non-null  category      \n",
      "dtypes: category(2), datetime64[ns](1), float64(1), object(4)\n",
      "memory usage: 37.6+ MB\n"
     ]
    }
   ],
   "source": [
    "df.info()"
   ]
  },
  {
   "cell_type": "markdown",
   "id": "d3f81796-290c-4e04-b985-e9ba54fe9e89",
   "metadata": {},
   "source": [
    "Merge de df avec df_customer"
   ]
  },
  {
   "cell_type": "code",
   "execution_count": 56,
   "id": "bff148b8-1e2e-4725-a3ea-86a2314bcc6a",
   "metadata": {},
   "outputs": [
    {
     "data": {
      "text/html": [
       "<div><div id=69147a2e-d34a-425f-a2e8-3fe39172af6e style=\"display:none; background-color:#9D6CFF; color:white; width:200px; height:30px; padding-left:5px; border-radius:4px; flex-direction:row; justify-content:space-around; align-items:center;\" onmouseover=\"this.style.backgroundColor='#BA9BF8'\" onmouseout=\"this.style.backgroundColor='#9D6CFF'\" onclick=\"window.commands?.execute('create-mitosheet-from-dataframe-output');\">See Full Dataframe in Mito</div> <script> if (window.commands.hasCommand('create-mitosheet-from-dataframe-output')) document.getElementById('69147a2e-d34a-425f-a2e8-3fe39172af6e').style.display = 'flex' </script> <table border=\"1\" class=\"dataframe\">\n",
       "  <thead>\n",
       "    <tr style=\"text-align: right;\">\n",
       "      <th></th>\n",
       "      <th>id_prod</th>\n",
       "      <th>date</th>\n",
       "      <th>session_id</th>\n",
       "      <th>client_id</th>\n",
       "      <th>time</th>\n",
       "      <th>price</th>\n",
       "      <th>categ</th>\n",
       "      <th>_merge</th>\n",
       "    </tr>\n",
       "  </thead>\n",
       "  <tbody>\n",
       "    <tr>\n",
       "      <th>0</th>\n",
       "      <td>0_1518</td>\n",
       "      <td>2022-05-20</td>\n",
       "      <td>s_211425</td>\n",
       "      <td>c_103</td>\n",
       "      <td>13:21:29.043970</td>\n",
       "      <td>4.18</td>\n",
       "      <td>0</td>\n",
       "      <td>both</td>\n",
       "    </tr>\n",
       "    <tr>\n",
       "      <th>1</th>\n",
       "      <td>0_1518</td>\n",
       "      <td>2021-09-26</td>\n",
       "      <td>s_95811</td>\n",
       "      <td>c_6197</td>\n",
       "      <td>12:37:29.780414</td>\n",
       "      <td>4.18</td>\n",
       "      <td>0</td>\n",
       "      <td>both</td>\n",
       "    </tr>\n",
       "    <tr>\n",
       "      <th>2</th>\n",
       "      <td>0_1518</td>\n",
       "      <td>2021-05-06</td>\n",
       "      <td>s_30782</td>\n",
       "      <td>c_682</td>\n",
       "      <td>17:14:43.117440</td>\n",
       "      <td>4.18</td>\n",
       "      <td>0</td>\n",
       "      <td>both</td>\n",
       "    </tr>\n",
       "    <tr>\n",
       "      <th>3</th>\n",
       "      <td>0_1518</td>\n",
       "      <td>2022-03-16</td>\n",
       "      <td>s_180057</td>\n",
       "      <td>c_5932</td>\n",
       "      <td>18:57:10.420103</td>\n",
       "      <td>4.18</td>\n",
       "      <td>0</td>\n",
       "      <td>both</td>\n",
       "    </tr>\n",
       "    <tr>\n",
       "      <th>4</th>\n",
       "      <td>0_1518</td>\n",
       "      <td>2022-11-12</td>\n",
       "      <td>s_296584</td>\n",
       "      <td>c_7217</td>\n",
       "      <td>18:58:10.574853</td>\n",
       "      <td>4.18</td>\n",
       "      <td>0</td>\n",
       "      <td>both</td>\n",
       "    </tr>\n",
       "  </tbody>\n",
       "</table></div>"
      ],
      "text/plain": [
       "  id_prod       date session_id client_id             time  price categ _merge\n",
       "0  0_1518 2022-05-20   s_211425     c_103  13:21:29.043970   4.18     0   both\n",
       "1  0_1518 2021-09-26    s_95811    c_6197  12:37:29.780414   4.18     0   both\n",
       "2  0_1518 2021-05-06    s_30782     c_682  17:14:43.117440   4.18     0   both\n",
       "3  0_1518 2022-03-16   s_180057    c_5932  18:57:10.420103   4.18     0   both\n",
       "4  0_1518 2022-11-12   s_296584    c_7217  18:58:10.574853   4.18     0   both"
      ]
     },
     "execution_count": 56,
     "metadata": {},
     "output_type": "execute_result"
    }
   ],
   "source": [
    "df.head()"
   ]
  },
  {
   "cell_type": "code",
   "execution_count": 57,
   "id": "96cac4b5-abf6-4d5b-80c3-ecc31ca297ca",
   "metadata": {},
   "outputs": [
    {
     "data": {
      "text/html": [
       "<div><div id=f4885f73-f7b4-4a14-be57-c9b31d1e3611 style=\"display:none; background-color:#9D6CFF; color:white; width:200px; height:30px; padding-left:5px; border-radius:4px; flex-direction:row; justify-content:space-around; align-items:center;\" onmouseover=\"this.style.backgroundColor='#BA9BF8'\" onmouseout=\"this.style.backgroundColor='#9D6CFF'\" onclick=\"window.commands?.execute('create-mitosheet-from-dataframe-output');\">See Full Dataframe in Mito</div> <script> if (window.commands.hasCommand('create-mitosheet-from-dataframe-output')) document.getElementById('f4885f73-f7b4-4a14-be57-c9b31d1e3611').style.display = 'flex' </script> <table border=\"1\" class=\"dataframe\">\n",
       "  <thead>\n",
       "    <tr style=\"text-align: right;\">\n",
       "      <th></th>\n",
       "      <th>client_id</th>\n",
       "      <th>sex</th>\n",
       "      <th>birth</th>\n",
       "      <th>age</th>\n",
       "    </tr>\n",
       "  </thead>\n",
       "  <tbody>\n",
       "    <tr>\n",
       "      <th>0</th>\n",
       "      <td>c_4410</td>\n",
       "      <td>f</td>\n",
       "      <td>1967</td>\n",
       "      <td>56</td>\n",
       "    </tr>\n",
       "    <tr>\n",
       "      <th>1</th>\n",
       "      <td>c_7839</td>\n",
       "      <td>f</td>\n",
       "      <td>1975</td>\n",
       "      <td>48</td>\n",
       "    </tr>\n",
       "    <tr>\n",
       "      <th>2</th>\n",
       "      <td>c_1699</td>\n",
       "      <td>f</td>\n",
       "      <td>1984</td>\n",
       "      <td>39</td>\n",
       "    </tr>\n",
       "    <tr>\n",
       "      <th>3</th>\n",
       "      <td>c_5961</td>\n",
       "      <td>f</td>\n",
       "      <td>1962</td>\n",
       "      <td>61</td>\n",
       "    </tr>\n",
       "    <tr>\n",
       "      <th>4</th>\n",
       "      <td>c_5320</td>\n",
       "      <td>m</td>\n",
       "      <td>1943</td>\n",
       "      <td>80</td>\n",
       "    </tr>\n",
       "  </tbody>\n",
       "</table></div>"
      ],
      "text/plain": [
       "  client_id sex  birth  age\n",
       "0    c_4410   f   1967   56\n",
       "1    c_7839   f   1975   48\n",
       "2    c_1699   f   1984   39\n",
       "3    c_5961   f   1962   61\n",
       "4    c_5320   m   1943   80"
      ]
     },
     "execution_count": 57,
     "metadata": {},
     "output_type": "execute_result"
    }
   ],
   "source": [
    "df_customer.head()"
   ]
  },
  {
   "cell_type": "code",
   "execution_count": 58,
   "id": "a37d647f-df9d-4d7d-950f-bb56c57d10bf",
   "metadata": {},
   "outputs": [],
   "source": [
    "df.drop(columns=[\"_merge\"], inplace=True)"
   ]
  },
  {
   "cell_type": "code",
   "execution_count": 59,
   "id": "f5d001d3-5abe-45e8-b3e2-7770b4b2ec63",
   "metadata": {},
   "outputs": [],
   "source": [
    "df_prod = df.merge(df_customer, how=\"outer\", on=\"client_id\", indicator=True)"
   ]
  },
  {
   "cell_type": "code",
   "execution_count": 60,
   "id": "6119ac42-2436-4a58-8cf9-ab4815504654",
   "metadata": {},
   "outputs": [
    {
     "name": "stdout",
     "output_type": "stream",
     "text": [
      "<class 'pandas.core.frame.DataFrame'>\n",
      "Int64Index: 679355 entries, 0 to 679354\n",
      "Data columns (total 11 columns):\n",
      " #   Column      Non-Null Count   Dtype         \n",
      "---  ------      --------------   -----         \n",
      " 0   id_prod     679332 non-null  object        \n",
      " 1   date        679332 non-null  datetime64[ns]\n",
      " 2   session_id  679332 non-null  object        \n",
      " 3   client_id   679355 non-null  object        \n",
      " 4   time        679332 non-null  object        \n",
      " 5   price       679332 non-null  float64       \n",
      " 6   categ       679332 non-null  category      \n",
      " 7   sex         679355 non-null  object        \n",
      " 8   birth       679355 non-null  int64         \n",
      " 9   age         679355 non-null  int64         \n",
      " 10  _merge      679355 non-null  category      \n",
      "dtypes: category(2), datetime64[ns](1), float64(1), int64(2), object(5)\n",
      "memory usage: 53.1+ MB\n"
     ]
    }
   ],
   "source": [
    "df_prod.info()"
   ]
  },
  {
   "cell_type": "code",
   "execution_count": 61,
   "id": "27505eb5-ec88-4d73-9728-3c85249a2e07",
   "metadata": {},
   "outputs": [
    {
     "data": {
      "text/plain": [
       "['both', 'right_only']\n",
       "Categories (2, object): ['both', 'right_only']"
      ]
     },
     "execution_count": 61,
     "metadata": {},
     "output_type": "execute_result"
    }
   ],
   "source": [
    "df_prod[\"_merge\"].unique()"
   ]
  },
  {
   "cell_type": "code",
   "execution_count": 62,
   "id": "a28f1139-c6ea-495c-8d27-57766f42482c",
   "metadata": {},
   "outputs": [
    {
     "data": {
      "text/html": [
       "<div><div id=f36dd9e2-f79b-4cde-b560-46b47a0cf87c style=\"display:none; background-color:#9D6CFF; color:white; width:200px; height:30px; padding-left:5px; border-radius:4px; flex-direction:row; justify-content:space-around; align-items:center;\" onmouseover=\"this.style.backgroundColor='#BA9BF8'\" onmouseout=\"this.style.backgroundColor='#9D6CFF'\" onclick=\"window.commands?.execute('create-mitosheet-from-dataframe-output');\">See Full Dataframe in Mito</div> <script> if (window.commands.hasCommand('create-mitosheet-from-dataframe-output')) document.getElementById('f36dd9e2-f79b-4cde-b560-46b47a0cf87c').style.display = 'flex' </script> <table border=\"1\" class=\"dataframe\">\n",
       "  <thead>\n",
       "    <tr style=\"text-align: right;\">\n",
       "      <th></th>\n",
       "      <th>id_prod</th>\n",
       "      <th>date</th>\n",
       "      <th>session_id</th>\n",
       "      <th>client_id</th>\n",
       "      <th>time</th>\n",
       "      <th>price</th>\n",
       "      <th>categ</th>\n",
       "      <th>sex</th>\n",
       "      <th>birth</th>\n",
       "      <th>age</th>\n",
       "      <th>_merge</th>\n",
       "    </tr>\n",
       "  </thead>\n",
       "  <tbody>\n",
       "    <tr>\n",
       "      <th>679332</th>\n",
       "      <td>NaN</td>\n",
       "      <td>NaT</td>\n",
       "      <td>NaN</td>\n",
       "      <td>c_8253</td>\n",
       "      <td>NaN</td>\n",
       "      <td>NaN</td>\n",
       "      <td>NaN</td>\n",
       "      <td>f</td>\n",
       "      <td>2001</td>\n",
       "      <td>22</td>\n",
       "      <td>right_only</td>\n",
       "    </tr>\n",
       "    <tr>\n",
       "      <th>679333</th>\n",
       "      <td>NaN</td>\n",
       "      <td>NaT</td>\n",
       "      <td>NaN</td>\n",
       "      <td>c_3789</td>\n",
       "      <td>NaN</td>\n",
       "      <td>NaN</td>\n",
       "      <td>NaN</td>\n",
       "      <td>f</td>\n",
       "      <td>1997</td>\n",
       "      <td>26</td>\n",
       "      <td>right_only</td>\n",
       "    </tr>\n",
       "    <tr>\n",
       "      <th>679334</th>\n",
       "      <td>NaN</td>\n",
       "      <td>NaT</td>\n",
       "      <td>NaN</td>\n",
       "      <td>c_4406</td>\n",
       "      <td>NaN</td>\n",
       "      <td>NaN</td>\n",
       "      <td>NaN</td>\n",
       "      <td>f</td>\n",
       "      <td>1998</td>\n",
       "      <td>25</td>\n",
       "      <td>right_only</td>\n",
       "    </tr>\n",
       "    <tr>\n",
       "      <th>679335</th>\n",
       "      <td>NaN</td>\n",
       "      <td>NaT</td>\n",
       "      <td>NaN</td>\n",
       "      <td>ct_0</td>\n",
       "      <td>NaN</td>\n",
       "      <td>NaN</td>\n",
       "      <td>NaN</td>\n",
       "      <td>f</td>\n",
       "      <td>2001</td>\n",
       "      <td>22</td>\n",
       "      <td>right_only</td>\n",
       "    </tr>\n",
       "    <tr>\n",
       "      <th>679336</th>\n",
       "      <td>NaN</td>\n",
       "      <td>NaT</td>\n",
       "      <td>NaN</td>\n",
       "      <td>c_2706</td>\n",
       "      <td>NaN</td>\n",
       "      <td>NaN</td>\n",
       "      <td>NaN</td>\n",
       "      <td>f</td>\n",
       "      <td>1967</td>\n",
       "      <td>56</td>\n",
       "      <td>right_only</td>\n",
       "    </tr>\n",
       "    <tr>\n",
       "      <th>...</th>\n",
       "      <td>...</td>\n",
       "      <td>...</td>\n",
       "      <td>...</td>\n",
       "      <td>...</td>\n",
       "      <td>...</td>\n",
       "      <td>...</td>\n",
       "      <td>...</td>\n",
       "      <td>...</td>\n",
       "      <td>...</td>\n",
       "      <td>...</td>\n",
       "      <td>...</td>\n",
       "    </tr>\n",
       "    <tr>\n",
       "      <th>679350</th>\n",
       "      <td>NaN</td>\n",
       "      <td>NaT</td>\n",
       "      <td>NaN</td>\n",
       "      <td>c_7584</td>\n",
       "      <td>NaN</td>\n",
       "      <td>NaN</td>\n",
       "      <td>NaN</td>\n",
       "      <td>f</td>\n",
       "      <td>1960</td>\n",
       "      <td>63</td>\n",
       "      <td>right_only</td>\n",
       "    </tr>\n",
       "    <tr>\n",
       "      <th>679351</th>\n",
       "      <td>NaN</td>\n",
       "      <td>NaT</td>\n",
       "      <td>NaN</td>\n",
       "      <td>c_90</td>\n",
       "      <td>NaN</td>\n",
       "      <td>NaN</td>\n",
       "      <td>NaN</td>\n",
       "      <td>m</td>\n",
       "      <td>2001</td>\n",
       "      <td>22</td>\n",
       "      <td>right_only</td>\n",
       "    </tr>\n",
       "    <tr>\n",
       "      <th>679352</th>\n",
       "      <td>NaN</td>\n",
       "      <td>NaT</td>\n",
       "      <td>NaN</td>\n",
       "      <td>c_587</td>\n",
       "      <td>NaN</td>\n",
       "      <td>NaN</td>\n",
       "      <td>NaN</td>\n",
       "      <td>m</td>\n",
       "      <td>1993</td>\n",
       "      <td>30</td>\n",
       "      <td>right_only</td>\n",
       "    </tr>\n",
       "    <tr>\n",
       "      <th>679353</th>\n",
       "      <td>NaN</td>\n",
       "      <td>NaT</td>\n",
       "      <td>NaN</td>\n",
       "      <td>ct_1</td>\n",
       "      <td>NaN</td>\n",
       "      <td>NaN</td>\n",
       "      <td>NaN</td>\n",
       "      <td>m</td>\n",
       "      <td>2001</td>\n",
       "      <td>22</td>\n",
       "      <td>right_only</td>\n",
       "    </tr>\n",
       "    <tr>\n",
       "      <th>679354</th>\n",
       "      <td>NaN</td>\n",
       "      <td>NaT</td>\n",
       "      <td>NaN</td>\n",
       "      <td>c_3526</td>\n",
       "      <td>NaN</td>\n",
       "      <td>NaN</td>\n",
       "      <td>NaN</td>\n",
       "      <td>m</td>\n",
       "      <td>1956</td>\n",
       "      <td>67</td>\n",
       "      <td>right_only</td>\n",
       "    </tr>\n",
       "  </tbody>\n",
       "</table></div>"
      ],
      "text/plain": [
       "       id_prod date session_id client_id time  price categ sex  birth  age  \\\n",
       "679332     NaN  NaT        NaN    c_8253  NaN    NaN   NaN   f   2001   22   \n",
       "679333     NaN  NaT        NaN    c_3789  NaN    NaN   NaN   f   1997   26   \n",
       "679334     NaN  NaT        NaN    c_4406  NaN    NaN   NaN   f   1998   25   \n",
       "679335     NaN  NaT        NaN      ct_0  NaN    NaN   NaN   f   2001   22   \n",
       "679336     NaN  NaT        NaN    c_2706  NaN    NaN   NaN   f   1967   56   \n",
       "679337     NaN  NaT        NaN    c_3443  NaN    NaN   NaN   m   1959   64   \n",
       "679338     NaN  NaT        NaN    c_4447  NaN    NaN   NaN   m   1956   67   \n",
       "679339     NaN  NaT        NaN    c_3017  NaN    NaN   NaN   f   1992   31   \n",
       "679340     NaN  NaT        NaN    c_4086  NaN    NaN   NaN   f   1992   31   \n",
       "679341     NaN  NaT        NaN    c_6930  NaN    NaN   NaN   m   2004   19   \n",
       "679342     NaN  NaT        NaN    c_4358  NaN    NaN   NaN   m   1999   24   \n",
       "679343     NaN  NaT        NaN    c_8381  NaN    NaN   NaN   f   1965   58   \n",
       "679344     NaN  NaT        NaN    c_1223  NaN    NaN   NaN   m   1963   60   \n",
       "679345     NaN  NaT        NaN    c_6862  NaN    NaN   NaN   f   2002   21   \n",
       "679346     NaN  NaT        NaN    c_5245  NaN    NaN   NaN   f   2004   19   \n",
       "679347     NaN  NaT        NaN    c_5223  NaN    NaN   NaN   m   2003   20   \n",
       "679348     NaN  NaT        NaN    c_6735  NaN    NaN   NaN   m   2004   19   \n",
       "679349     NaN  NaT        NaN     c_862  NaN    NaN   NaN   f   1956   67   \n",
       "679350     NaN  NaT        NaN    c_7584  NaN    NaN   NaN   f   1960   63   \n",
       "679351     NaN  NaT        NaN      c_90  NaN    NaN   NaN   m   2001   22   \n",
       "679352     NaN  NaT        NaN     c_587  NaN    NaN   NaN   m   1993   30   \n",
       "679353     NaN  NaT        NaN      ct_1  NaN    NaN   NaN   m   2001   22   \n",
       "679354     NaN  NaT        NaN    c_3526  NaN    NaN   NaN   m   1956   67   \n",
       "\n",
       "            _merge  \n",
       "679332  right_only  \n",
       "679333  right_only  \n",
       "679334  right_only  \n",
       "679335  right_only  \n",
       "679336  right_only  \n",
       "679337  right_only  \n",
       "679338  right_only  \n",
       "679339  right_only  \n",
       "679340  right_only  \n",
       "679341  right_only  \n",
       "679342  right_only  \n",
       "679343  right_only  \n",
       "679344  right_only  \n",
       "679345  right_only  \n",
       "679346  right_only  \n",
       "679347  right_only  \n",
       "679348  right_only  \n",
       "679349  right_only  \n",
       "679350  right_only  \n",
       "679351  right_only  \n",
       "679352  right_only  \n",
       "679353  right_only  \n",
       "679354  right_only  "
      ]
     },
     "execution_count": 62,
     "metadata": {},
     "output_type": "execute_result"
    }
   ],
   "source": [
    "df_prod[df_prod[\"_merge\"] == \"right_only\"]"
   ]
  },
  {
   "cell_type": "markdown",
   "id": "103f5f95-1fc9-4158-a11d-b210875a9346",
   "metadata": {},
   "source": [
    "Il s'agit des client_id sans transaction sur la période. Création de df_customer_no_purchase et suppression de ses clients de df_prod"
   ]
  },
  {
   "cell_type": "code",
   "execution_count": 63,
   "id": "834cebe2-4333-4627-92b8-ac62f7f53582",
   "metadata": {},
   "outputs": [
    {
     "name": "stdout",
     "output_type": "stream",
     "text": [
      "<class 'pandas.core.frame.DataFrame'>\n",
      "Int64Index: 23 entries, 679332 to 679354\n",
      "Data columns (total 11 columns):\n",
      " #   Column      Non-Null Count  Dtype         \n",
      "---  ------      --------------  -----         \n",
      " 0   id_prod     0 non-null      object        \n",
      " 1   date        0 non-null      datetime64[ns]\n",
      " 2   session_id  0 non-null      object        \n",
      " 3   client_id   23 non-null     object        \n",
      " 4   time        0 non-null      object        \n",
      " 5   price       0 non-null      float64       \n",
      " 6   categ       0 non-null      category      \n",
      " 7   sex         23 non-null     object        \n",
      " 8   birth       23 non-null     int64         \n",
      " 9   age         23 non-null     int64         \n",
      " 10  _merge      23 non-null     category      \n",
      "dtypes: category(2), datetime64[ns](1), float64(1), int64(2), object(5)\n",
      "memory usage: 2.1+ KB\n"
     ]
    }
   ],
   "source": [
    "df_customer_no_purchase = df_prod[df_prod[\"_merge\"] == \"right_only\"]\n",
    "df_customer_no_purchase.info()"
   ]
  },
  {
   "cell_type": "markdown",
   "id": "800553eb-adeb-4c59-a7ec-d81abe67801a",
   "metadata": {},
   "source": [
    "23 clients non acheteurs sur la période"
   ]
  },
  {
   "cell_type": "code",
   "execution_count": 64,
   "id": "982e8910-06db-4351-aa73-36be0efca2b9",
   "metadata": {},
   "outputs": [],
   "source": [
    "df_prod = df_prod[df_prod[\"_merge\"] != \"right_only\"]"
   ]
  },
  {
   "cell_type": "code",
   "execution_count": 65,
   "id": "50a5308e-fdf0-4f50-a96e-78a781d1d932",
   "metadata": {},
   "outputs": [
    {
     "name": "stdout",
     "output_type": "stream",
     "text": [
      "<class 'pandas.core.frame.DataFrame'>\n",
      "Int64Index: 679332 entries, 0 to 679331\n",
      "Data columns (total 11 columns):\n",
      " #   Column      Non-Null Count   Dtype         \n",
      "---  ------      --------------   -----         \n",
      " 0   id_prod     679332 non-null  object        \n",
      " 1   date        679332 non-null  datetime64[ns]\n",
      " 2   session_id  679332 non-null  object        \n",
      " 3   client_id   679332 non-null  object        \n",
      " 4   time        679332 non-null  object        \n",
      " 5   price       679332 non-null  float64       \n",
      " 6   categ       679332 non-null  category      \n",
      " 7   sex         679332 non-null  object        \n",
      " 8   birth       679332 non-null  int64         \n",
      " 9   age         679332 non-null  int64         \n",
      " 10  _merge      679332 non-null  category      \n",
      "dtypes: category(2), datetime64[ns](1), float64(1), int64(2), object(5)\n",
      "memory usage: 53.1+ MB\n"
     ]
    }
   ],
   "source": [
    "df_prod.info()"
   ]
  },
  {
   "cell_type": "markdown",
   "id": "010e869f-162c-4217-b1b9-86764bf49c71",
   "metadata": {},
   "source": [
    "df_prod clean pour l'analyse"
   ]
  },
  {
   "cell_type": "code",
   "execution_count": 66,
   "id": "f3ebbcb2-0d38-4514-9c7a-a4c9c2e2136e",
   "metadata": {},
   "outputs": [],
   "source": [
    "df_prod.drop(columns=[\"_merge\"], inplace=True)"
   ]
  },
  {
   "cell_type": "code",
   "execution_count": 67,
   "id": "c9a7642f-fa42-481f-9d7d-68cfe772f819",
   "metadata": {},
   "outputs": [
    {
     "data": {
      "text/html": [
       "<div><div id=b1c3d1a8-6e96-4e69-bf33-b3311505bf90 style=\"display:none; background-color:#9D6CFF; color:white; width:200px; height:30px; padding-left:5px; border-radius:4px; flex-direction:row; justify-content:space-around; align-items:center;\" onmouseover=\"this.style.backgroundColor='#BA9BF8'\" onmouseout=\"this.style.backgroundColor='#9D6CFF'\" onclick=\"window.commands?.execute('create-mitosheet-from-dataframe-output');\">See Full Dataframe in Mito</div> <script> if (window.commands.hasCommand('create-mitosheet-from-dataframe-output')) document.getElementById('b1c3d1a8-6e96-4e69-bf33-b3311505bf90').style.display = 'flex' </script> <table border=\"1\" class=\"dataframe\">\n",
       "  <thead>\n",
       "    <tr style=\"text-align: right;\">\n",
       "      <th></th>\n",
       "      <th>id_prod</th>\n",
       "      <th>date</th>\n",
       "      <th>session_id</th>\n",
       "      <th>client_id</th>\n",
       "      <th>time</th>\n",
       "      <th>price</th>\n",
       "      <th>categ</th>\n",
       "      <th>sex</th>\n",
       "      <th>birth</th>\n",
       "      <th>age</th>\n",
       "    </tr>\n",
       "  </thead>\n",
       "  <tbody>\n",
       "    <tr>\n",
       "      <th>0</th>\n",
       "      <td>0_1518</td>\n",
       "      <td>2022-05-20</td>\n",
       "      <td>s_211425</td>\n",
       "      <td>c_103</td>\n",
       "      <td>13:21:29.043970</td>\n",
       "      <td>4.18</td>\n",
       "      <td>0</td>\n",
       "      <td>f</td>\n",
       "      <td>1986</td>\n",
       "      <td>37</td>\n",
       "    </tr>\n",
       "    <tr>\n",
       "      <th>1</th>\n",
       "      <td>0_1518</td>\n",
       "      <td>2021-07-20</td>\n",
       "      <td>s_64849</td>\n",
       "      <td>c_103</td>\n",
       "      <td>13:21:29.043970</td>\n",
       "      <td>4.18</td>\n",
       "      <td>0</td>\n",
       "      <td>f</td>\n",
       "      <td>1986</td>\n",
       "      <td>37</td>\n",
       "    </tr>\n",
       "    <tr>\n",
       "      <th>2</th>\n",
       "      <td>0_1518</td>\n",
       "      <td>2022-08-20</td>\n",
       "      <td>s_255965</td>\n",
       "      <td>c_103</td>\n",
       "      <td>13:21:29.043970</td>\n",
       "      <td>4.18</td>\n",
       "      <td>0</td>\n",
       "      <td>f</td>\n",
       "      <td>1986</td>\n",
       "      <td>37</td>\n",
       "    </tr>\n",
       "    <tr>\n",
       "      <th>3</th>\n",
       "      <td>0_1418</td>\n",
       "      <td>2022-06-18</td>\n",
       "      <td>s_225411</td>\n",
       "      <td>c_103</td>\n",
       "      <td>01:49:37.823274</td>\n",
       "      <td>8.57</td>\n",
       "      <td>0</td>\n",
       "      <td>f</td>\n",
       "      <td>1986</td>\n",
       "      <td>37</td>\n",
       "    </tr>\n",
       "    <tr>\n",
       "      <th>4</th>\n",
       "      <td>0_1418</td>\n",
       "      <td>2021-08-18</td>\n",
       "      <td>s_77214</td>\n",
       "      <td>c_103</td>\n",
       "      <td>01:49:37.823274</td>\n",
       "      <td>8.57</td>\n",
       "      <td>0</td>\n",
       "      <td>f</td>\n",
       "      <td>1986</td>\n",
       "      <td>37</td>\n",
       "    </tr>\n",
       "  </tbody>\n",
       "</table></div>"
      ],
      "text/plain": [
       "  id_prod       date session_id client_id             time  price categ sex  \\\n",
       "0  0_1518 2022-05-20   s_211425     c_103  13:21:29.043970   4.18     0   f   \n",
       "1  0_1518 2021-07-20    s_64849     c_103  13:21:29.043970   4.18     0   f   \n",
       "2  0_1518 2022-08-20   s_255965     c_103  13:21:29.043970   4.18     0   f   \n",
       "3  0_1418 2022-06-18   s_225411     c_103  01:49:37.823274   8.57     0   f   \n",
       "4  0_1418 2021-08-18    s_77214     c_103  01:49:37.823274   8.57     0   f   \n",
       "\n",
       "   birth  age  \n",
       "0   1986   37  \n",
       "1   1986   37  \n",
       "2   1986   37  \n",
       "3   1986   37  \n",
       "4   1986   37  "
      ]
     },
     "execution_count": 67,
     "metadata": {},
     "output_type": "execute_result"
    }
   ],
   "source": [
    "df_prod.head()"
   ]
  },
  {
   "cell_type": "code",
   "execution_count": 68,
   "id": "44eaeff2-4ea8-4145-a1d1-e19f9aedde8a",
   "metadata": {},
   "outputs": [
    {
     "data": {
      "text/plain": [
       "Timestamp('2023-02-28 00:00:00')"
      ]
     },
     "execution_count": 68,
     "metadata": {},
     "output_type": "execute_result"
    }
   ],
   "source": [
    "df_prod.date.max()"
   ]
  },
  {
   "cell_type": "code",
   "execution_count": 69,
   "id": "912d4128-2262-4fa9-acdc-c34bb584c48e",
   "metadata": {},
   "outputs": [
    {
     "data": {
      "text/plain": [
       "Timestamp('2021-03-01 00:00:00')"
      ]
     },
     "execution_count": 69,
     "metadata": {},
     "output_type": "execute_result"
    }
   ],
   "source": [
    "df_prod.date.min()"
   ]
  },
  {
   "cell_type": "code",
   "execution_count": 70,
   "id": "e3a9cc96-5a9e-4975-99bf-630689ec219c",
   "metadata": {},
   "outputs": [],
   "source": [
    "# Création de la variable mois\n",
    "df_prod[\"purchase_month\"] = df_prod[\"date\"].dt.month"
   ]
  },
  {
   "cell_type": "code",
   "execution_count": 71,
   "id": "5d2a5251-b078-473a-920a-f7871f59e75e",
   "metadata": {},
   "outputs": [],
   "source": [
    "# Suppression de la variable birth\n",
    "del df_prod[\"birth\"]"
   ]
  },
  {
   "cell_type": "code",
   "execution_count": 74,
   "id": "55a65068-667f-4fda-9471-d207ce2af5e3",
   "metadata": {},
   "outputs": [
    {
     "data": {
      "text/html": [
       "<div><div id=d13407b7-4c67-4641-ab3f-cf48cf10413b style=\"display:none; background-color:#9D6CFF; color:white; width:200px; height:30px; padding-left:5px; border-radius:4px; flex-direction:row; justify-content:space-around; align-items:center;\" onmouseover=\"this.style.backgroundColor='#BA9BF8'\" onmouseout=\"this.style.backgroundColor='#9D6CFF'\" onclick=\"window.commands?.execute('create-mitosheet-from-dataframe-output');\">See Full Dataframe in Mito</div> <script> if (window.commands.hasCommand('create-mitosheet-from-dataframe-output')) document.getElementById('d13407b7-4c67-4641-ab3f-cf48cf10413b').style.display = 'flex' </script> <table border=\"1\" class=\"dataframe\">\n",
       "  <thead>\n",
       "    <tr style=\"text-align: right;\">\n",
       "      <th></th>\n",
       "      <th>id_prod</th>\n",
       "      <th>date</th>\n",
       "      <th>session_id</th>\n",
       "      <th>client_id</th>\n",
       "      <th>time</th>\n",
       "      <th>price</th>\n",
       "      <th>categ</th>\n",
       "      <th>sex</th>\n",
       "      <th>age</th>\n",
       "      <th>purchase_month</th>\n",
       "    </tr>\n",
       "  </thead>\n",
       "  <tbody>\n",
       "    <tr>\n",
       "      <th>0</th>\n",
       "      <td>0_1518</td>\n",
       "      <td>2022-05-20</td>\n",
       "      <td>s_211425</td>\n",
       "      <td>c_103</td>\n",
       "      <td>13:21:29.043970</td>\n",
       "      <td>4.18</td>\n",
       "      <td>0</td>\n",
       "      <td>f</td>\n",
       "      <td>37</td>\n",
       "      <td>5</td>\n",
       "    </tr>\n",
       "    <tr>\n",
       "      <th>1</th>\n",
       "      <td>0_1518</td>\n",
       "      <td>2021-07-20</td>\n",
       "      <td>s_64849</td>\n",
       "      <td>c_103</td>\n",
       "      <td>13:21:29.043970</td>\n",
       "      <td>4.18</td>\n",
       "      <td>0</td>\n",
       "      <td>f</td>\n",
       "      <td>37</td>\n",
       "      <td>7</td>\n",
       "    </tr>\n",
       "    <tr>\n",
       "      <th>2</th>\n",
       "      <td>0_1518</td>\n",
       "      <td>2022-08-20</td>\n",
       "      <td>s_255965</td>\n",
       "      <td>c_103</td>\n",
       "      <td>13:21:29.043970</td>\n",
       "      <td>4.18</td>\n",
       "      <td>0</td>\n",
       "      <td>f</td>\n",
       "      <td>37</td>\n",
       "      <td>8</td>\n",
       "    </tr>\n",
       "    <tr>\n",
       "      <th>3</th>\n",
       "      <td>0_1418</td>\n",
       "      <td>2022-06-18</td>\n",
       "      <td>s_225411</td>\n",
       "      <td>c_103</td>\n",
       "      <td>01:49:37.823274</td>\n",
       "      <td>8.57</td>\n",
       "      <td>0</td>\n",
       "      <td>f</td>\n",
       "      <td>37</td>\n",
       "      <td>6</td>\n",
       "    </tr>\n",
       "    <tr>\n",
       "      <th>4</th>\n",
       "      <td>0_1418</td>\n",
       "      <td>2021-08-18</td>\n",
       "      <td>s_77214</td>\n",
       "      <td>c_103</td>\n",
       "      <td>01:49:37.823274</td>\n",
       "      <td>8.57</td>\n",
       "      <td>0</td>\n",
       "      <td>f</td>\n",
       "      <td>37</td>\n",
       "      <td>8</td>\n",
       "    </tr>\n",
       "    <tr>\n",
       "      <th>...</th>\n",
       "      <td>...</td>\n",
       "      <td>...</td>\n",
       "      <td>...</td>\n",
       "      <td>...</td>\n",
       "      <td>...</td>\n",
       "      <td>...</td>\n",
       "      <td>...</td>\n",
       "      <td>...</td>\n",
       "      <td>...</td>\n",
       "      <td>...</td>\n",
       "    </tr>\n",
       "    <tr>\n",
       "      <th>679327</th>\n",
       "      <td>2_147</td>\n",
       "      <td>2021-07-23</td>\n",
       "      <td>s_65994</td>\n",
       "      <td>c_4391</td>\n",
       "      <td>07:01:38.963669</td>\n",
       "      <td>181.99</td>\n",
       "      <td>2</td>\n",
       "      <td>f</td>\n",
       "      <td>22</td>\n",
       "      <td>7</td>\n",
       "    </tr>\n",
       "    <tr>\n",
       "      <th>679328</th>\n",
       "      <td>0_142</td>\n",
       "      <td>2022-03-25</td>\n",
       "      <td>s_184472</td>\n",
       "      <td>c_1232</td>\n",
       "      <td>18:07:25.880052</td>\n",
       "      <td>19.85</td>\n",
       "      <td>0</td>\n",
       "      <td>f</td>\n",
       "      <td>63</td>\n",
       "      <td>3</td>\n",
       "    </tr>\n",
       "    <tr>\n",
       "      <th>679329</th>\n",
       "      <td>0_142</td>\n",
       "      <td>2021-09-25</td>\n",
       "      <td>s_95415</td>\n",
       "      <td>c_1232</td>\n",
       "      <td>18:07:25.880052</td>\n",
       "      <td>19.85</td>\n",
       "      <td>0</td>\n",
       "      <td>f</td>\n",
       "      <td>63</td>\n",
       "      <td>9</td>\n",
       "    </tr>\n",
       "    <tr>\n",
       "      <th>679330</th>\n",
       "      <td>2_205</td>\n",
       "      <td>2021-03-11</td>\n",
       "      <td>s_4605</td>\n",
       "      <td>c_7534</td>\n",
       "      <td>00:11:32.016264</td>\n",
       "      <td>100.99</td>\n",
       "      <td>2</td>\n",
       "      <td>m</td>\n",
       "      <td>31</td>\n",
       "      <td>3</td>\n",
       "    </tr>\n",
       "    <tr>\n",
       "      <th>679331</th>\n",
       "      <td>2_205</td>\n",
       "      <td>2022-07-11</td>\n",
       "      <td>s_236636</td>\n",
       "      <td>c_7534</td>\n",
       "      <td>00:11:32.016264</td>\n",
       "      <td>100.99</td>\n",
       "      <td>2</td>\n",
       "      <td>m</td>\n",
       "      <td>31</td>\n",
       "      <td>7</td>\n",
       "    </tr>\n",
       "  </tbody>\n",
       "</table></div>"
      ],
      "text/plain": [
       "       id_prod       date session_id client_id             time  price categ  \\\n",
       "0       0_1518 2022-05-20   s_211425     c_103  13:21:29.043970   4.18     0   \n",
       "1       0_1518 2021-07-20    s_64849     c_103  13:21:29.043970   4.18     0   \n",
       "2       0_1518 2022-08-20   s_255965     c_103  13:21:29.043970   4.18     0   \n",
       "3       0_1418 2022-06-18   s_225411     c_103  01:49:37.823274   8.57     0   \n",
       "4       0_1418 2021-08-18    s_77214     c_103  01:49:37.823274   8.57     0   \n",
       "...        ...        ...        ...       ...              ...    ...   ...   \n",
       "679327   2_147 2021-07-23    s_65994    c_4391  07:01:38.963669 181.99     2   \n",
       "679328   0_142 2022-03-25   s_184472    c_1232  18:07:25.880052  19.85     0   \n",
       "679329   0_142 2021-09-25    s_95415    c_1232  18:07:25.880052  19.85     0   \n",
       "679330   2_205 2021-03-11     s_4605    c_7534  00:11:32.016264 100.99     2   \n",
       "679331   2_205 2022-07-11   s_236636    c_7534  00:11:32.016264 100.99     2   \n",
       "\n",
       "       sex  age  purchase_month  \n",
       "0        f   37               5  \n",
       "1        f   37               7  \n",
       "2        f   37               8  \n",
       "3        f   37               6  \n",
       "4        f   37               8  \n",
       "...     ..  ...             ...  \n",
       "679327   f   22               7  \n",
       "679328   f   63               3  \n",
       "679329   f   63               9  \n",
       "679330   m   31               3  \n",
       "679331   m   31               7  \n",
       "\n",
       "[679332 rows x 10 columns]"
      ]
     },
     "execution_count": 74,
     "metadata": {},
     "output_type": "execute_result"
    }
   ],
   "source": [
    "df_prod"
   ]
  },
  {
   "cell_type": "code",
   "execution_count": 73,
   "id": "0f14822c-3d88-4444-8b96-ecc9265f23a5",
   "metadata": {},
   "outputs": [],
   "source": [
    "df_prod.to_pickle(\"data/df_prod.pkl\")\n",
    "df_invendu.to_pickle(\"data/df_invendu.pkl\")\n",
    "df_customer_no_purchase.to_pickle(\"data/df_customer_no_purchase.pkl\")\n",
    "df_customer.to_pickle(\"data/df_customer.pkl\")"
   ]
  },
  {
   "cell_type": "code",
   "execution_count": null,
   "id": "786c5ba3-4919-48b1-8f95-9fa8278965f2",
   "metadata": {},
   "outputs": [],
   "source": []
  }
 ],
 "metadata": {
  "kernelspec": {
   "display_name": "Python 3 (ipykernel)",
   "language": "python",
   "name": "python3"
  },
  "language_info": {
   "codemirror_mode": {
    "name": "ipython",
    "version": 3
   },
   "file_extension": ".py",
   "mimetype": "text/x-python",
   "name": "python",
   "nbconvert_exporter": "python",
   "pygments_lexer": "ipython3",
   "version": "3.8.12"
  }
 },
 "nbformat": 4,
 "nbformat_minor": 5
}
