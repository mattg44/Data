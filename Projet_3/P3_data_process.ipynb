{
  "nbformat": 4,
  "nbformat_minor": 0,
  "metadata": {
    "colab": {
      "name": "P3_data_process.ipynb",
      "provenance": []
    },
    "kernelspec": {
      "name": "python3",
      "display_name": "Python 3"
    },
    "language_info": {
      "name": "python"
    }
  },
  "cells": [
    {
      "cell_type": "code",
      "metadata": {
        "colab": {
          "base_uri": "https://localhost:8080/"
        },
        "id": "alQdIqLw7xGM",
        "outputId": "a2935c41-544d-4ec7-8856-f9dd29d9b984"
      },
      "source": [
        "import pandas as pd\n",
        "from google.colab import drive\n",
        "drive.mount(\"/content/drive\")"
      ],
      "execution_count": null,
      "outputs": [
        {
          "output_type": "stream",
          "name": "stdout",
          "text": [
            "Drive already mounted at /content/drive; to attempt to forcibly remount, call drive.mount(\"/content/drive\", force_remount=True).\n"
          ]
        }
      ]
    },
    {
      "cell_type": "code",
      "metadata": {
        "colab": {
          "base_uri": "https://localhost:8080/",
          "height": 417
        },
        "id": "bX8lJ9IP8Cxv",
        "outputId": "0e9e3fcb-1348-4bf7-fcc1-4a65e05b967e"
      },
      "source": [
        "# Import de la basse de données\n",
        "path = \"/content/drive/MyDrive/Openclassrooms/Projet 3/DAN-P3-data.csv\"\n",
        "df_raw = pd.read_csv(path, decimal=\",\", parse_dates=['Date mutation'])\n",
        "df_raw.head()"
      ],
      "execution_count": null,
      "outputs": [
        {
          "output_type": "stream",
          "name": "stderr",
          "text": [
            "/usr/local/lib/python3.7/dist-packages/IPython/core/interactiveshell.py:2718: DtypeWarning: Columns (20,26,42,43) have mixed types.Specify dtype option on import or set low_memory=False.\n",
            "  interactivity=interactivity, compiler=compiler, result=result)\n"
          ]
        },
        {
          "output_type": "execute_result",
          "data": {
            "text/html": [
              "<div>\n",
              "<style scoped>\n",
              "    .dataframe tbody tr th:only-of-type {\n",
              "        vertical-align: middle;\n",
              "    }\n",
              "\n",
              "    .dataframe tbody tr th {\n",
              "        vertical-align: top;\n",
              "    }\n",
              "\n",
              "    .dataframe thead th {\n",
              "        text-align: right;\n",
              "    }\n",
              "</style>\n",
              "<table border=\"1\" class=\"dataframe\">\n",
              "  <thead>\n",
              "    <tr style=\"text-align: right;\">\n",
              "      <th></th>\n",
              "      <th>Code service CH</th>\n",
              "      <th>Reference document</th>\n",
              "      <th>1 Articles CGI</th>\n",
              "      <th>2 Articles CGI</th>\n",
              "      <th>3 Articles CGI</th>\n",
              "      <th>4 Articles CGI</th>\n",
              "      <th>5 Articles CGI</th>\n",
              "      <th>No disposition</th>\n",
              "      <th>Date mutation</th>\n",
              "      <th>Nature mutation</th>\n",
              "      <th>Valeur fonciere</th>\n",
              "      <th>No voie</th>\n",
              "      <th>B/T/Q</th>\n",
              "      <th>Code type de voie</th>\n",
              "      <th>Type de voie</th>\n",
              "      <th>Code voie</th>\n",
              "      <th>Voie</th>\n",
              "      <th>Code ID commune</th>\n",
              "      <th>Code postal</th>\n",
              "      <th>Commune</th>\n",
              "      <th>Code departement</th>\n",
              "      <th>Code commune</th>\n",
              "      <th>Prefixe de section</th>\n",
              "      <th>Section</th>\n",
              "      <th>No plan</th>\n",
              "      <th>No Volume</th>\n",
              "      <th>1er lot</th>\n",
              "      <th>Surface Carrez du 1er lot</th>\n",
              "      <th>2eme lot</th>\n",
              "      <th>Surface Carrez du 2eme lot</th>\n",
              "      <th>3eme lot</th>\n",
              "      <th>Surface Carrez du 3eme lot</th>\n",
              "      <th>4eme lot</th>\n",
              "      <th>Surface Carrez du 4eme lot</th>\n",
              "      <th>5eme lot</th>\n",
              "      <th>Surface Carrez du 5eme lot</th>\n",
              "      <th>Nombre de lots</th>\n",
              "      <th>Code type local</th>\n",
              "      <th>Type local</th>\n",
              "      <th>Identifiant local</th>\n",
              "      <th>Surface reelle bati</th>\n",
              "      <th>Nombre pieces principales</th>\n",
              "      <th>Nature culture</th>\n",
              "      <th>Nature culture speciale</th>\n",
              "      <th>Surface terrain</th>\n",
              "    </tr>\n",
              "  </thead>\n",
              "  <tbody>\n",
              "    <tr>\n",
              "      <th>0</th>\n",
              "      <td>NaN</td>\n",
              "      <td>NaN</td>\n",
              "      <td>NaN</td>\n",
              "      <td>NaN</td>\n",
              "      <td>NaN</td>\n",
              "      <td>NaN</td>\n",
              "      <td>NaN</td>\n",
              "      <td>1</td>\n",
              "      <td>2020-02-03</td>\n",
              "      <td>Vente</td>\n",
              "      <td>56000.0</td>\n",
              "      <td>190.0</td>\n",
              "      <td>A</td>\n",
              "      <td>0</td>\n",
              "      <td>RUE</td>\n",
              "      <td>5</td>\n",
              "      <td>CENTRALE</td>\n",
              "      <td>0</td>\n",
              "      <td>1370.0</td>\n",
              "      <td>SAINT-ETIENNE-DU-BOIS</td>\n",
              "      <td>1</td>\n",
              "      <td>350</td>\n",
              "      <td>NaN</td>\n",
              "      <td>B</td>\n",
              "      <td>1478</td>\n",
              "      <td>NaN</td>\n",
              "      <td>22</td>\n",
              "      <td>50.42</td>\n",
              "      <td>NaN</td>\n",
              "      <td>NaN</td>\n",
              "      <td>NaN</td>\n",
              "      <td>NaN</td>\n",
              "      <td>NaN</td>\n",
              "      <td>NaN</td>\n",
              "      <td>NaN</td>\n",
              "      <td>NaN</td>\n",
              "      <td>1</td>\n",
              "      <td>2</td>\n",
              "      <td>Appartement</td>\n",
              "      <td>NaN</td>\n",
              "      <td>52</td>\n",
              "      <td>2</td>\n",
              "      <td>NaN</td>\n",
              "      <td>NaN</td>\n",
              "      <td>NaN</td>\n",
              "    </tr>\n",
              "    <tr>\n",
              "      <th>1</th>\n",
              "      <td>NaN</td>\n",
              "      <td>NaN</td>\n",
              "      <td>NaN</td>\n",
              "      <td>NaN</td>\n",
              "      <td>NaN</td>\n",
              "      <td>NaN</td>\n",
              "      <td>NaN</td>\n",
              "      <td>1</td>\n",
              "      <td>2020-01-02</td>\n",
              "      <td>Vente</td>\n",
              "      <td>165000.0</td>\n",
              "      <td>347.0</td>\n",
              "      <td>NaN</td>\n",
              "      <td>0</td>\n",
              "      <td>RUE</td>\n",
              "      <td>20</td>\n",
              "      <td>DU CHATEAU</td>\n",
              "      <td>1</td>\n",
              "      <td>1170.0</td>\n",
              "      <td>CHEVRY</td>\n",
              "      <td>1</td>\n",
              "      <td>103</td>\n",
              "      <td>NaN</td>\n",
              "      <td>A</td>\n",
              "      <td>302</td>\n",
              "      <td>NaN</td>\n",
              "      <td>12</td>\n",
              "      <td>48.22</td>\n",
              "      <td>NaN</td>\n",
              "      <td>NaN</td>\n",
              "      <td>NaN</td>\n",
              "      <td>NaN</td>\n",
              "      <td>NaN</td>\n",
              "      <td>NaN</td>\n",
              "      <td>NaN</td>\n",
              "      <td>NaN</td>\n",
              "      <td>2</td>\n",
              "      <td>2</td>\n",
              "      <td>Appartement</td>\n",
              "      <td>NaN</td>\n",
              "      <td>48</td>\n",
              "      <td>3</td>\n",
              "      <td>NaN</td>\n",
              "      <td>NaN</td>\n",
              "      <td>NaN</td>\n",
              "    </tr>\n",
              "    <tr>\n",
              "      <th>2</th>\n",
              "      <td>NaN</td>\n",
              "      <td>NaN</td>\n",
              "      <td>NaN</td>\n",
              "      <td>NaN</td>\n",
              "      <td>NaN</td>\n",
              "      <td>NaN</td>\n",
              "      <td>NaN</td>\n",
              "      <td>1</td>\n",
              "      <td>2020-01-08</td>\n",
              "      <td>Vente</td>\n",
              "      <td>720000.0</td>\n",
              "      <td>58.0</td>\n",
              "      <td>NaN</td>\n",
              "      <td>1</td>\n",
              "      <td>AV</td>\n",
              "      <td>527</td>\n",
              "      <td>DU MONT BLANC</td>\n",
              "      <td>2</td>\n",
              "      <td>1220.0</td>\n",
              "      <td>DIVONNE-LES-BAINS</td>\n",
              "      <td>1</td>\n",
              "      <td>143</td>\n",
              "      <td>NaN</td>\n",
              "      <td>AK</td>\n",
              "      <td>563</td>\n",
              "      <td>NaN</td>\n",
              "      <td>146</td>\n",
              "      <td>130.80</td>\n",
              "      <td>NaN</td>\n",
              "      <td>NaN</td>\n",
              "      <td>NaN</td>\n",
              "      <td>NaN</td>\n",
              "      <td>NaN</td>\n",
              "      <td>NaN</td>\n",
              "      <td>NaN</td>\n",
              "      <td>NaN</td>\n",
              "      <td>2</td>\n",
              "      <td>2</td>\n",
              "      <td>Appartement</td>\n",
              "      <td>NaN</td>\n",
              "      <td>130</td>\n",
              "      <td>6</td>\n",
              "      <td>NaN</td>\n",
              "      <td>NaN</td>\n",
              "      <td>NaN</td>\n",
              "    </tr>\n",
              "    <tr>\n",
              "      <th>3</th>\n",
              "      <td>NaN</td>\n",
              "      <td>NaN</td>\n",
              "      <td>NaN</td>\n",
              "      <td>NaN</td>\n",
              "      <td>NaN</td>\n",
              "      <td>NaN</td>\n",
              "      <td>NaN</td>\n",
              "      <td>1</td>\n",
              "      <td>2020-01-06</td>\n",
              "      <td>Vente</td>\n",
              "      <td>429250.0</td>\n",
              "      <td>140.0</td>\n",
              "      <td>NaN</td>\n",
              "      <td>0</td>\n",
              "      <td>RUE</td>\n",
              "      <td>2</td>\n",
              "      <td>DE L'ABBE JOLIVET</td>\n",
              "      <td>3</td>\n",
              "      <td>1630.0</td>\n",
              "      <td>PERON</td>\n",
              "      <td>1</td>\n",
              "      <td>288</td>\n",
              "      <td>NaN</td>\n",
              "      <td>C</td>\n",
              "      <td>2307</td>\n",
              "      <td>NaN</td>\n",
              "      <td>11</td>\n",
              "      <td>109.22</td>\n",
              "      <td>NaN</td>\n",
              "      <td>NaN</td>\n",
              "      <td>NaN</td>\n",
              "      <td>NaN</td>\n",
              "      <td>NaN</td>\n",
              "      <td>NaN</td>\n",
              "      <td>NaN</td>\n",
              "      <td>NaN</td>\n",
              "      <td>1</td>\n",
              "      <td>1</td>\n",
              "      <td>Maison</td>\n",
              "      <td>NaN</td>\n",
              "      <td>109</td>\n",
              "      <td>5</td>\n",
              "      <td>NaN</td>\n",
              "      <td>NaN</td>\n",
              "      <td>NaN</td>\n",
              "    </tr>\n",
              "    <tr>\n",
              "      <th>4</th>\n",
              "      <td>NaN</td>\n",
              "      <td>NaN</td>\n",
              "      <td>NaN</td>\n",
              "      <td>NaN</td>\n",
              "      <td>NaN</td>\n",
              "      <td>NaN</td>\n",
              "      <td>NaN</td>\n",
              "      <td>1</td>\n",
              "      <td>2020-01-07</td>\n",
              "      <td>Vente</td>\n",
              "      <td>220900.0</td>\n",
              "      <td>39.0</td>\n",
              "      <td>NaN</td>\n",
              "      <td>0</td>\n",
              "      <td>RUE</td>\n",
              "      <td>110</td>\n",
              "      <td>BUFFON</td>\n",
              "      <td>4</td>\n",
              "      <td>1200.0</td>\n",
              "      <td>VALSERHONE</td>\n",
              "      <td>1</td>\n",
              "      <td>33</td>\n",
              "      <td>NaN</td>\n",
              "      <td>AE</td>\n",
              "      <td>440</td>\n",
              "      <td>NaN</td>\n",
              "      <td>31</td>\n",
              "      <td>108.65</td>\n",
              "      <td>NaN</td>\n",
              "      <td>NaN</td>\n",
              "      <td>NaN</td>\n",
              "      <td>NaN</td>\n",
              "      <td>NaN</td>\n",
              "      <td>NaN</td>\n",
              "      <td>NaN</td>\n",
              "      <td>NaN</td>\n",
              "      <td>2</td>\n",
              "      <td>2</td>\n",
              "      <td>Appartement</td>\n",
              "      <td>NaN</td>\n",
              "      <td>91</td>\n",
              "      <td>4</td>\n",
              "      <td>NaN</td>\n",
              "      <td>NaN</td>\n",
              "      <td>NaN</td>\n",
              "    </tr>\n",
              "  </tbody>\n",
              "</table>\n",
              "</div>"
            ],
            "text/plain": [
              "   Code service CH  Reference document  ...  Nature culture speciale  Surface terrain\n",
              "0              NaN                 NaN  ...                      NaN              NaN\n",
              "1              NaN                 NaN  ...                      NaN              NaN\n",
              "2              NaN                 NaN  ...                      NaN              NaN\n",
              "3              NaN                 NaN  ...                      NaN              NaN\n",
              "4              NaN                 NaN  ...                      NaN              NaN\n",
              "\n",
              "[5 rows x 45 columns]"
            ]
          },
          "metadata": {},
          "execution_count": 2
        }
      ]
    },
    {
      "cell_type": "markdown",
      "metadata": {
        "id": "y3mzH9XB94hm"
      },
      "source": [
        "## Analyse rapide du dataframe"
      ]
    },
    {
      "cell_type": "code",
      "metadata": {
        "id": "hgDj2AtR-FZX"
      },
      "source": [
        "# Copie du dataframe original\n",
        "df = df_raw.copy()"
      ],
      "execution_count": null,
      "outputs": []
    },
    {
      "cell_type": "code",
      "metadata": {
        "colab": {
          "base_uri": "https://localhost:8080/"
        },
        "id": "j5OP5D-F8YLK",
        "outputId": "143980e3-646a-4785-c3e7-9f2885470250"
      },
      "source": [
        "# Liste des colonnes vides\n",
        "cols_vides = [col for col in df.columns if df[col].isnull().all()]\n",
        "cols_vides"
      ],
      "execution_count": null,
      "outputs": [
        {
          "output_type": "execute_result",
          "data": {
            "text/plain": [
              "['Code service CH',\n",
              " 'Reference document',\n",
              " '1 Articles CGI',\n",
              " '2 Articles CGI',\n",
              " '3 Articles CGI',\n",
              " '4 Articles CGI',\n",
              " '5 Articles CGI',\n",
              " 'No Volume',\n",
              " '2eme lot',\n",
              " 'Surface Carrez du 2eme lot',\n",
              " '3eme lot',\n",
              " 'Surface Carrez du 3eme lot',\n",
              " '4eme lot',\n",
              " 'Surface Carrez du 4eme lot',\n",
              " '5eme lot',\n",
              " 'Surface Carrez du 5eme lot',\n",
              " 'Identifiant local']"
            ]
          },
          "metadata": {},
          "execution_count": 4
        }
      ]
    },
    {
      "cell_type": "code",
      "metadata": {
        "id": "kXAzi6bc8dAs"
      },
      "source": [
        "# Suppression des colonnes vides\n",
        "df.drop(cols_vides, axis=1, inplace=True)"
      ],
      "execution_count": null,
      "outputs": []
    },
    {
      "cell_type": "code",
      "metadata": {
        "colab": {
          "base_uri": "https://localhost:8080/"
        },
        "id": "eBOa9TAh-VKP",
        "outputId": "32fb0672-280a-48b4-aca4-0973332f89b7"
      },
      "source": [
        "# Aucun doublon\n",
        "df.duplicated().sum()"
      ],
      "execution_count": null,
      "outputs": [
        {
          "output_type": "execute_result",
          "data": {
            "text/plain": [
              "0"
            ]
          },
          "metadata": {},
          "execution_count": 6
        }
      ]
    },
    {
      "cell_type": "code",
      "metadata": {
        "colab": {
          "base_uri": "https://localhost:8080/"
        },
        "id": "w6n4uIC8-WdA",
        "outputId": "2d9d9b80-11ae-4901-8910-9b6ac3b5b189"
      },
      "source": [
        "# Vérification des valeurs manquantes\n",
        "df.info()"
      ],
      "execution_count": null,
      "outputs": [
        {
          "output_type": "stream",
          "name": "stdout",
          "text": [
            "<class 'pandas.core.frame.DataFrame'>\n",
            "RangeIndex: 34169 entries, 0 to 34168\n",
            "Data columns (total 28 columns):\n",
            " #   Column                     Non-Null Count  Dtype         \n",
            "---  ------                     --------------  -----         \n",
            " 0   No disposition             34169 non-null  int64         \n",
            " 1   Date mutation              34169 non-null  datetime64[ns]\n",
            " 2   Nature mutation            34169 non-null  object        \n",
            " 3   Valeur fonciere            34151 non-null  float64       \n",
            " 4   No voie                    34036 non-null  float64       \n",
            " 5   B/T/Q                      2174 non-null   object        \n",
            " 6   Code type de voie          34169 non-null  int64         \n",
            " 7   Type de voie               33229 non-null  object        \n",
            " 8   Code voie                  34169 non-null  object        \n",
            " 9   Voie                       34169 non-null  object        \n",
            " 10  Code ID commune            34169 non-null  int64         \n",
            " 11  Code postal                34168 non-null  object        \n",
            " 12  Commune                    34169 non-null  object        \n",
            " 13  Code departement           34169 non-null  object        \n",
            " 14  Code commune               34169 non-null  int64         \n",
            " 15  Prefixe de section         1143 non-null   float64       \n",
            " 16  Section                    34168 non-null  object        \n",
            " 17  No plan                    34169 non-null  int64         \n",
            " 18  1er lot                    34169 non-null  object        \n",
            " 19  Surface Carrez du 1er lot  34169 non-null  float64       \n",
            " 20  Nombre de lots             34169 non-null  int64         \n",
            " 21  Code type local            34169 non-null  int64         \n",
            " 22  Type local                 34169 non-null  object        \n",
            " 23  Surface reelle bati        34169 non-null  int64         \n",
            " 24  Nombre pieces principales  34169 non-null  int64         \n",
            " 25  Nature culture             253 non-null    object        \n",
            " 26  Nature culture speciale    8 non-null      object        \n",
            " 27  Surface terrain            253 non-null    float64       \n",
            "dtypes: datetime64[ns](1), float64(5), int64(9), object(13)\n",
            "memory usage: 7.3+ MB\n"
          ]
        }
      ]
    },
    {
      "cell_type": "markdown",
      "metadata": {
        "id": "FWBbYFiqCtMG"
      },
      "source": [
        "Beaucoup de valeurs manquantes. Rien d'anormal sauf pour \"Valeur fonciere\" qui pourrait fausser les calculs de prix au m²"
      ]
    },
    {
      "cell_type": "code",
      "metadata": {
        "id": "y4qaROrtCdiO"
      },
      "source": [
        "# Suppression des valeurs nulles de \"Valeur fonciere\"\n",
        "df.dropna(subset=['Valeur fonciere'], inplace=True)"
      ],
      "execution_count": null,
      "outputs": []
    },
    {
      "cell_type": "markdown",
      "metadata": {
        "id": "IF_shCVpGwTP"
      },
      "source": [
        "## Préparation des tables pour l'import SQL"
      ]
    },
    {
      "cell_type": "markdown",
      "metadata": {
        "id": "sRA4YB8VG_0S"
      },
      "source": [
        "#### Table commune  \n",
        "id (PK), code_postal, nom_commune, code_dpt"
      ]
    },
    {
      "cell_type": "code",
      "metadata": {
        "id": "ZiaGeOT4FxrG"
      },
      "source": [
        "df_commune = df[[\"Code ID commune\", \"Code postal\", \"Commune\", \"Code departement\"]]"
      ],
      "execution_count": null,
      "outputs": []
    },
    {
      "cell_type": "code",
      "metadata": {
        "id": "jWGV670QHtfQ"
      },
      "source": [
        "# Renommage des colonnes pour l'import mySQL\n",
        "df_commune.columns = [\"id\", \"code_postal\", \"nom_commune\", \"code_dpt\"]\n"
      ],
      "execution_count": null,
      "outputs": []
    },
    {
      "cell_type": "code",
      "metadata": {
        "colab": {
          "base_uri": "https://localhost:8080/"
        },
        "id": "xuAJgcJjHvHL",
        "outputId": "afe18ad1-63f9-4c50-ae9d-7c43e27b6f72"
      },
      "source": [
        "# Création d'un id unique\n",
        "df_commune.drop_duplicates(subset=\"id\", inplace=True)\n",
        "df_commune.info()\n"
      ],
      "execution_count": null,
      "outputs": [
        {
          "output_type": "stream",
          "name": "stdout",
          "text": [
            "<class 'pandas.core.frame.DataFrame'>\n",
            "Int64Index: 3215 entries, 0 to 33925\n",
            "Data columns (total 4 columns):\n",
            " #   Column       Non-Null Count  Dtype \n",
            "---  ------       --------------  ----- \n",
            " 0   id           3215 non-null   int64 \n",
            " 1   code_postal  3214 non-null   object\n",
            " 2   nom_commune  3215 non-null   object\n",
            " 3   code_dpt     3215 non-null   object\n",
            "dtypes: int64(1), object(3)\n",
            "memory usage: 125.6+ KB\n"
          ]
        },
        {
          "output_type": "stream",
          "name": "stderr",
          "text": [
            "/usr/local/lib/python3.7/dist-packages/ipykernel_launcher.py:2: SettingWithCopyWarning: \n",
            "A value is trying to be set on a copy of a slice from a DataFrame\n",
            "\n",
            "See the caveats in the documentation: https://pandas.pydata.org/pandas-docs/stable/user_guide/indexing.html#returning-a-view-versus-a-copy\n",
            "  \n"
          ]
        }
      ]
    },
    {
      "cell_type": "code",
      "metadata": {
        "id": "hKzlG0DMN8MG"
      },
      "source": [
        "# Création du fichier \"commune.csv\" pour l'import mySQL\n",
        "df_commune.to_csv(\"commune.csv\", index=False)"
      ],
      "execution_count": null,
      "outputs": []
    },
    {
      "cell_type": "markdown",
      "metadata": {
        "id": "4rQgNbSsnzxM"
      },
      "source": [
        "#### Table bien"
      ]
    },
    {
      "cell_type": "code",
      "metadata": {
        "colab": {
          "base_uri": "https://localhost:8080/",
          "height": 206
        },
        "id": "YFcc_0wdww6R",
        "outputId": "3ae26612-4cbc-4aa1-dfff-38a5711868e7"
      },
      "source": [
        "# Création du dataframe\n",
        "df_bien = df[[\"Type local\", \"Nombre pieces principales\",\n",
        "              \"Surface Carrez du 1er lot\",\n",
        "              \"Code ID commune\"]].copy()\n",
        "df_bien.head()\n"
      ],
      "execution_count": null,
      "outputs": [
        {
          "output_type": "execute_result",
          "data": {
            "text/html": [
              "<div>\n",
              "<style scoped>\n",
              "    .dataframe tbody tr th:only-of-type {\n",
              "        vertical-align: middle;\n",
              "    }\n",
              "\n",
              "    .dataframe tbody tr th {\n",
              "        vertical-align: top;\n",
              "    }\n",
              "\n",
              "    .dataframe thead th {\n",
              "        text-align: right;\n",
              "    }\n",
              "</style>\n",
              "<table border=\"1\" class=\"dataframe\">\n",
              "  <thead>\n",
              "    <tr style=\"text-align: right;\">\n",
              "      <th></th>\n",
              "      <th>Type local</th>\n",
              "      <th>Nombre pieces principales</th>\n",
              "      <th>Surface Carrez du 1er lot</th>\n",
              "      <th>Code ID commune</th>\n",
              "    </tr>\n",
              "  </thead>\n",
              "  <tbody>\n",
              "    <tr>\n",
              "      <th>0</th>\n",
              "      <td>Appartement</td>\n",
              "      <td>2</td>\n",
              "      <td>50.42</td>\n",
              "      <td>0</td>\n",
              "    </tr>\n",
              "    <tr>\n",
              "      <th>1</th>\n",
              "      <td>Appartement</td>\n",
              "      <td>3</td>\n",
              "      <td>48.22</td>\n",
              "      <td>1</td>\n",
              "    </tr>\n",
              "    <tr>\n",
              "      <th>2</th>\n",
              "      <td>Appartement</td>\n",
              "      <td>6</td>\n",
              "      <td>130.80</td>\n",
              "      <td>2</td>\n",
              "    </tr>\n",
              "    <tr>\n",
              "      <th>3</th>\n",
              "      <td>Maison</td>\n",
              "      <td>5</td>\n",
              "      <td>109.22</td>\n",
              "      <td>3</td>\n",
              "    </tr>\n",
              "    <tr>\n",
              "      <th>4</th>\n",
              "      <td>Appartement</td>\n",
              "      <td>4</td>\n",
              "      <td>108.65</td>\n",
              "      <td>4</td>\n",
              "    </tr>\n",
              "  </tbody>\n",
              "</table>\n",
              "</div>"
            ],
            "text/plain": [
              "    Type local  ...  Code ID commune\n",
              "0  Appartement  ...                0\n",
              "1  Appartement  ...                1\n",
              "2  Appartement  ...                2\n",
              "3       Maison  ...                3\n",
              "4  Appartement  ...                4\n",
              "\n",
              "[5 rows x 4 columns]"
            ]
          },
          "metadata": {},
          "execution_count": 17
        }
      ]
    },
    {
      "cell_type": "code",
      "metadata": {
        "id": "jfL3iWg6xz33"
      },
      "source": [
        "# Création de l'id bien (composite par rapport au références cadastrales + N° du lot 1)\n",
        "df_bien[\"id\"] = df[\"Code departement\"].astype(\"str\") + df[\"Code commune\"].astype(\"str\") \\\n",
        "    + df[\"Prefixe de section\"].astype(\"str\") + df[\"Section\"] + df[\"No plan\"].astype(\"str\") \\\n",
        "    + df[\"1er lot\"].astype(\"str\")\n"
      ],
      "execution_count": null,
      "outputs": []
    },
    {
      "cell_type": "code",
      "metadata": {
        "colab": {
          "base_uri": "https://localhost:8080/",
          "height": 424
        },
        "id": "9qSpH2nYyZRq",
        "outputId": "704aefe4-2698-488f-82c7-2aa566264fcd"
      },
      "source": [
        "df_bien"
      ],
      "execution_count": null,
      "outputs": [
        {
          "output_type": "execute_result",
          "data": {
            "text/html": [
              "<div>\n",
              "<style scoped>\n",
              "    .dataframe tbody tr th:only-of-type {\n",
              "        vertical-align: middle;\n",
              "    }\n",
              "\n",
              "    .dataframe tbody tr th {\n",
              "        vertical-align: top;\n",
              "    }\n",
              "\n",
              "    .dataframe thead th {\n",
              "        text-align: right;\n",
              "    }\n",
              "</style>\n",
              "<table border=\"1\" class=\"dataframe\">\n",
              "  <thead>\n",
              "    <tr style=\"text-align: right;\">\n",
              "      <th></th>\n",
              "      <th>Type local</th>\n",
              "      <th>Nombre pieces principales</th>\n",
              "      <th>Surface Carrez du 1er lot</th>\n",
              "      <th>Code ID commune</th>\n",
              "      <th>id</th>\n",
              "    </tr>\n",
              "  </thead>\n",
              "  <tbody>\n",
              "    <tr>\n",
              "      <th>0</th>\n",
              "      <td>Appartement</td>\n",
              "      <td>2</td>\n",
              "      <td>50.42</td>\n",
              "      <td>0</td>\n",
              "      <td>1350nanB147822</td>\n",
              "    </tr>\n",
              "    <tr>\n",
              "      <th>1</th>\n",
              "      <td>Appartement</td>\n",
              "      <td>3</td>\n",
              "      <td>48.22</td>\n",
              "      <td>1</td>\n",
              "      <td>1103nanA30212</td>\n",
              "    </tr>\n",
              "    <tr>\n",
              "      <th>2</th>\n",
              "      <td>Appartement</td>\n",
              "      <td>6</td>\n",
              "      <td>130.80</td>\n",
              "      <td>2</td>\n",
              "      <td>1143nanAK563146</td>\n",
              "    </tr>\n",
              "    <tr>\n",
              "      <th>3</th>\n",
              "      <td>Maison</td>\n",
              "      <td>5</td>\n",
              "      <td>109.22</td>\n",
              "      <td>3</td>\n",
              "      <td>1288nanC230711</td>\n",
              "    </tr>\n",
              "    <tr>\n",
              "      <th>4</th>\n",
              "      <td>Appartement</td>\n",
              "      <td>4</td>\n",
              "      <td>108.65</td>\n",
              "      <td>4</td>\n",
              "      <td>133nanAE44031</td>\n",
              "    </tr>\n",
              "    <tr>\n",
              "      <th>...</th>\n",
              "      <td>...</td>\n",
              "      <td>...</td>\n",
              "      <td>...</td>\n",
              "      <td>...</td>\n",
              "      <td>...</td>\n",
              "    </tr>\n",
              "    <tr>\n",
              "      <th>34164</th>\n",
              "      <td>Appartement</td>\n",
              "      <td>3</td>\n",
              "      <td>102.09</td>\n",
              "      <td>3213</td>\n",
              "      <td>75104nanAN3113</td>\n",
              "    </tr>\n",
              "    <tr>\n",
              "      <th>34165</th>\n",
              "      <td>Appartement</td>\n",
              "      <td>3</td>\n",
              "      <td>55.95</td>\n",
              "      <td>3213</td>\n",
              "      <td>75104nanAG7967</td>\n",
              "    </tr>\n",
              "    <tr>\n",
              "      <th>34166</th>\n",
              "      <td>Appartement</td>\n",
              "      <td>2</td>\n",
              "      <td>32.86</td>\n",
              "      <td>3213</td>\n",
              "      <td>75104nanAO7322</td>\n",
              "    </tr>\n",
              "    <tr>\n",
              "      <th>34167</th>\n",
              "      <td>Appartement</td>\n",
              "      <td>3</td>\n",
              "      <td>56.80</td>\n",
              "      <td>3213</td>\n",
              "      <td>75104nanAM6789</td>\n",
              "    </tr>\n",
              "    <tr>\n",
              "      <th>34168</th>\n",
              "      <td>Appartement</td>\n",
              "      <td>1</td>\n",
              "      <td>35.44</td>\n",
              "      <td>3214</td>\n",
              "      <td>75102nanAI3453</td>\n",
              "    </tr>\n",
              "  </tbody>\n",
              "</table>\n",
              "<p>34151 rows × 5 columns</p>\n",
              "</div>"
            ],
            "text/plain": [
              "        Type local  Nombre pieces principales  ...  Code ID commune               id\n",
              "0      Appartement                          2  ...                0   1350nanB147822\n",
              "1      Appartement                          3  ...                1    1103nanA30212\n",
              "2      Appartement                          6  ...                2  1143nanAK563146\n",
              "3           Maison                          5  ...                3   1288nanC230711\n",
              "4      Appartement                          4  ...                4    133nanAE44031\n",
              "...            ...                        ...  ...              ...              ...\n",
              "34164  Appartement                          3  ...             3213   75104nanAN3113\n",
              "34165  Appartement                          3  ...             3213   75104nanAG7967\n",
              "34166  Appartement                          2  ...             3213   75104nanAO7322\n",
              "34167  Appartement                          3  ...             3213   75104nanAM6789\n",
              "34168  Appartement                          1  ...             3214   75102nanAI3453\n",
              "\n",
              "[34151 rows x 5 columns]"
            ]
          },
          "metadata": {},
          "execution_count": 19
        }
      ]
    },
    {
      "cell_type": "code",
      "metadata": {
        "colab": {
          "base_uri": "https://localhost:8080/",
          "height": 206
        },
        "id": "SGnD-m3zy3nR",
        "outputId": "4b8ad2f3-8285-4e85-f828-9d62c609fa1f"
      },
      "source": [
        "df_bien.columns = [\"type_local\", \"nb_piece\", \"surf_carrez\", \"commune_id\", \"id\"]\n",
        "df_bien.head()"
      ],
      "execution_count": null,
      "outputs": [
        {
          "output_type": "execute_result",
          "data": {
            "text/html": [
              "<div>\n",
              "<style scoped>\n",
              "    .dataframe tbody tr th:only-of-type {\n",
              "        vertical-align: middle;\n",
              "    }\n",
              "\n",
              "    .dataframe tbody tr th {\n",
              "        vertical-align: top;\n",
              "    }\n",
              "\n",
              "    .dataframe thead th {\n",
              "        text-align: right;\n",
              "    }\n",
              "</style>\n",
              "<table border=\"1\" class=\"dataframe\">\n",
              "  <thead>\n",
              "    <tr style=\"text-align: right;\">\n",
              "      <th></th>\n",
              "      <th>type_local</th>\n",
              "      <th>nb_piece</th>\n",
              "      <th>surf_carrez</th>\n",
              "      <th>commune_id</th>\n",
              "      <th>id</th>\n",
              "    </tr>\n",
              "  </thead>\n",
              "  <tbody>\n",
              "    <tr>\n",
              "      <th>0</th>\n",
              "      <td>Appartement</td>\n",
              "      <td>2</td>\n",
              "      <td>50.42</td>\n",
              "      <td>0</td>\n",
              "      <td>1350nanB147822</td>\n",
              "    </tr>\n",
              "    <tr>\n",
              "      <th>1</th>\n",
              "      <td>Appartement</td>\n",
              "      <td>3</td>\n",
              "      <td>48.22</td>\n",
              "      <td>1</td>\n",
              "      <td>1103nanA30212</td>\n",
              "    </tr>\n",
              "    <tr>\n",
              "      <th>2</th>\n",
              "      <td>Appartement</td>\n",
              "      <td>6</td>\n",
              "      <td>130.80</td>\n",
              "      <td>2</td>\n",
              "      <td>1143nanAK563146</td>\n",
              "    </tr>\n",
              "    <tr>\n",
              "      <th>3</th>\n",
              "      <td>Maison</td>\n",
              "      <td>5</td>\n",
              "      <td>109.22</td>\n",
              "      <td>3</td>\n",
              "      <td>1288nanC230711</td>\n",
              "    </tr>\n",
              "    <tr>\n",
              "      <th>4</th>\n",
              "      <td>Appartement</td>\n",
              "      <td>4</td>\n",
              "      <td>108.65</td>\n",
              "      <td>4</td>\n",
              "      <td>133nanAE44031</td>\n",
              "    </tr>\n",
              "  </tbody>\n",
              "</table>\n",
              "</div>"
            ],
            "text/plain": [
              "    type_local  nb_piece  surf_carrez  commune_id               id\n",
              "0  Appartement         2        50.42           0   1350nanB147822\n",
              "1  Appartement         3        48.22           1    1103nanA30212\n",
              "2  Appartement         6       130.80           2  1143nanAK563146\n",
              "3       Maison         5       109.22           3   1288nanC230711\n",
              "4  Appartement         4       108.65           4    133nanAE44031"
            ]
          },
          "metadata": {},
          "execution_count": 20
        }
      ]
    },
    {
      "cell_type": "code",
      "metadata": {
        "id": "RgUDoA3g3FsI"
      },
      "source": [
        "df_bien.drop_duplicates(subset=\"id\", inplace=True)"
      ],
      "execution_count": null,
      "outputs": []
    },
    {
      "cell_type": "code",
      "metadata": {
        "id": "vKO3XAc53hRv"
      },
      "source": [
        "df_bien = df_bien.reindex(columns=[\"id\", \"type_local\", \"nb_piece\", \"surf_carrez\", \"commune_id\"])\n",
        "\n"
      ],
      "execution_count": null,
      "outputs": []
    },
    {
      "cell_type": "code",
      "metadata": {
        "colab": {
          "base_uri": "https://localhost:8080/"
        },
        "id": "FpxSgxOR6lhd",
        "outputId": "68597f48-bcd2-414d-916a-a5289ec17c19"
      },
      "source": [
        "df_bien[\"surf_carrez\"].astype(\"float64\")"
      ],
      "execution_count": null,
      "outputs": [
        {
          "output_type": "execute_result",
          "data": {
            "text/plain": [
              "0         50.42\n",
              "1         48.22\n",
              "2        130.80\n",
              "3        109.22\n",
              "4        108.65\n",
              "          ...  \n",
              "34164    102.09\n",
              "34165     55.95\n",
              "34166     32.86\n",
              "34167     56.80\n",
              "34168     35.44\n",
              "Name: surf_carrez, Length: 34142, dtype: float64"
            ]
          },
          "metadata": {},
          "execution_count": 23
        }
      ]
    },
    {
      "cell_type": "code",
      "metadata": {
        "colab": {
          "base_uri": "https://localhost:8080/"
        },
        "id": "PuQb3Zzc4LMt",
        "outputId": "a58a2e67-f967-460c-b637-561b0a3689f3"
      },
      "source": [
        "df_bien.info()"
      ],
      "execution_count": null,
      "outputs": [
        {
          "output_type": "stream",
          "name": "stdout",
          "text": [
            "<class 'pandas.core.frame.DataFrame'>\n",
            "Int64Index: 34142 entries, 0 to 34168\n",
            "Data columns (total 5 columns):\n",
            " #   Column       Non-Null Count  Dtype  \n",
            "---  ------       --------------  -----  \n",
            " 0   id           34141 non-null  object \n",
            " 1   type_local   34142 non-null  object \n",
            " 2   nb_piece     34142 non-null  int64  \n",
            " 3   surf_carrez  34142 non-null  float64\n",
            " 4   commune_id   34142 non-null  int64  \n",
            "dtypes: float64(1), int64(2), object(2)\n",
            "memory usage: 1.6+ MB\n"
          ]
        }
      ]
    },
    {
      "cell_type": "code",
      "metadata": {
        "id": "FEkuo5tu5yk1"
      },
      "source": [
        "df_bien.to_csv(\"bien.csv\", index=False)"
      ],
      "execution_count": null,
      "outputs": []
    },
    {
      "cell_type": "markdown",
      "metadata": {
        "id": "F5wizQzOFsi5"
      },
      "source": [
        "## Table mutation"
      ]
    },
    {
      "cell_type": "code",
      "metadata": {
        "colab": {
          "base_uri": "https://localhost:8080/"
        },
        "id": "SzKkvF9r6GHe",
        "outputId": "72445045-1310-4e9b-f06f-4966ea8d2da4"
      },
      "source": [
        "df.info()"
      ],
      "execution_count": null,
      "outputs": [
        {
          "output_type": "stream",
          "name": "stdout",
          "text": [
            "<class 'pandas.core.frame.DataFrame'>\n",
            "Int64Index: 34151 entries, 0 to 34168\n",
            "Data columns (total 28 columns):\n",
            " #   Column                     Non-Null Count  Dtype         \n",
            "---  ------                     --------------  -----         \n",
            " 0   No disposition             34151 non-null  int64         \n",
            " 1   Date mutation              34151 non-null  datetime64[ns]\n",
            " 2   Nature mutation            34151 non-null  object        \n",
            " 3   Valeur fonciere            34151 non-null  float64       \n",
            " 4   No voie                    34018 non-null  float64       \n",
            " 5   B/T/Q                      2173 non-null   object        \n",
            " 6   Code type de voie          34151 non-null  int64         \n",
            " 7   Type de voie               33211 non-null  object        \n",
            " 8   Code voie                  34151 non-null  object        \n",
            " 9   Voie                       34151 non-null  object        \n",
            " 10  Code ID commune            34151 non-null  int64         \n",
            " 11  Code postal                34150 non-null  object        \n",
            " 12  Commune                    34151 non-null  object        \n",
            " 13  Code departement           34151 non-null  object        \n",
            " 14  Code commune               34151 non-null  int64         \n",
            " 15  Prefixe de section         1143 non-null   float64       \n",
            " 16  Section                    34150 non-null  object        \n",
            " 17  No plan                    34151 non-null  int64         \n",
            " 18  1er lot                    34151 non-null  object        \n",
            " 19  Surface Carrez du 1er lot  34151 non-null  float64       \n",
            " 20  Nombre de lots             34151 non-null  int64         \n",
            " 21  Code type local            34151 non-null  int64         \n",
            " 22  Type local                 34151 non-null  object        \n",
            " 23  Surface reelle bati        34151 non-null  int64         \n",
            " 24  Nombre pieces principales  34151 non-null  int64         \n",
            " 25  Nature culture             253 non-null    object        \n",
            " 26  Nature culture speciale    8 non-null      object        \n",
            " 27  Surface terrain            253 non-null    float64       \n",
            "dtypes: datetime64[ns](1), float64(5), int64(9), object(13)\n",
            "memory usage: 7.6+ MB\n"
          ]
        }
      ]
    },
    {
      "cell_type": "code",
      "metadata": {
        "colab": {
          "base_uri": "https://localhost:8080/",
          "height": 382
        },
        "id": "6LJwhVuVF5nk",
        "outputId": "16bc60cd-a809-466b-e89c-1bc7042a6bbc"
      },
      "source": [
        "df.head()"
      ],
      "execution_count": null,
      "outputs": [
        {
          "output_type": "execute_result",
          "data": {
            "text/html": [
              "<div>\n",
              "<style scoped>\n",
              "    .dataframe tbody tr th:only-of-type {\n",
              "        vertical-align: middle;\n",
              "    }\n",
              "\n",
              "    .dataframe tbody tr th {\n",
              "        vertical-align: top;\n",
              "    }\n",
              "\n",
              "    .dataframe thead th {\n",
              "        text-align: right;\n",
              "    }\n",
              "</style>\n",
              "<table border=\"1\" class=\"dataframe\">\n",
              "  <thead>\n",
              "    <tr style=\"text-align: right;\">\n",
              "      <th></th>\n",
              "      <th>No disposition</th>\n",
              "      <th>Date mutation</th>\n",
              "      <th>Nature mutation</th>\n",
              "      <th>Valeur fonciere</th>\n",
              "      <th>No voie</th>\n",
              "      <th>B/T/Q</th>\n",
              "      <th>Code type de voie</th>\n",
              "      <th>Type de voie</th>\n",
              "      <th>Code voie</th>\n",
              "      <th>Voie</th>\n",
              "      <th>Code ID commune</th>\n",
              "      <th>Code postal</th>\n",
              "      <th>Commune</th>\n",
              "      <th>Code departement</th>\n",
              "      <th>Code commune</th>\n",
              "      <th>Prefixe de section</th>\n",
              "      <th>Section</th>\n",
              "      <th>No plan</th>\n",
              "      <th>1er lot</th>\n",
              "      <th>Surface Carrez du 1er lot</th>\n",
              "      <th>Nombre de lots</th>\n",
              "      <th>Code type local</th>\n",
              "      <th>Type local</th>\n",
              "      <th>Surface reelle bati</th>\n",
              "      <th>Nombre pieces principales</th>\n",
              "      <th>Nature culture</th>\n",
              "      <th>Nature culture speciale</th>\n",
              "      <th>Surface terrain</th>\n",
              "    </tr>\n",
              "  </thead>\n",
              "  <tbody>\n",
              "    <tr>\n",
              "      <th>0</th>\n",
              "      <td>1</td>\n",
              "      <td>2020-02-03</td>\n",
              "      <td>Vente</td>\n",
              "      <td>56000.0</td>\n",
              "      <td>190.0</td>\n",
              "      <td>A</td>\n",
              "      <td>0</td>\n",
              "      <td>RUE</td>\n",
              "      <td>5</td>\n",
              "      <td>CENTRALE</td>\n",
              "      <td>0</td>\n",
              "      <td>1370.0</td>\n",
              "      <td>SAINT-ETIENNE-DU-BOIS</td>\n",
              "      <td>1</td>\n",
              "      <td>350</td>\n",
              "      <td>NaN</td>\n",
              "      <td>B</td>\n",
              "      <td>1478</td>\n",
              "      <td>22</td>\n",
              "      <td>50.42</td>\n",
              "      <td>1</td>\n",
              "      <td>2</td>\n",
              "      <td>Appartement</td>\n",
              "      <td>52</td>\n",
              "      <td>2</td>\n",
              "      <td>NaN</td>\n",
              "      <td>NaN</td>\n",
              "      <td>NaN</td>\n",
              "    </tr>\n",
              "    <tr>\n",
              "      <th>1</th>\n",
              "      <td>1</td>\n",
              "      <td>2020-01-02</td>\n",
              "      <td>Vente</td>\n",
              "      <td>165000.0</td>\n",
              "      <td>347.0</td>\n",
              "      <td>NaN</td>\n",
              "      <td>0</td>\n",
              "      <td>RUE</td>\n",
              "      <td>20</td>\n",
              "      <td>DU CHATEAU</td>\n",
              "      <td>1</td>\n",
              "      <td>1170.0</td>\n",
              "      <td>CHEVRY</td>\n",
              "      <td>1</td>\n",
              "      <td>103</td>\n",
              "      <td>NaN</td>\n",
              "      <td>A</td>\n",
              "      <td>302</td>\n",
              "      <td>12</td>\n",
              "      <td>48.22</td>\n",
              "      <td>2</td>\n",
              "      <td>2</td>\n",
              "      <td>Appartement</td>\n",
              "      <td>48</td>\n",
              "      <td>3</td>\n",
              "      <td>NaN</td>\n",
              "      <td>NaN</td>\n",
              "      <td>NaN</td>\n",
              "    </tr>\n",
              "    <tr>\n",
              "      <th>2</th>\n",
              "      <td>1</td>\n",
              "      <td>2020-01-08</td>\n",
              "      <td>Vente</td>\n",
              "      <td>720000.0</td>\n",
              "      <td>58.0</td>\n",
              "      <td>NaN</td>\n",
              "      <td>1</td>\n",
              "      <td>AV</td>\n",
              "      <td>527</td>\n",
              "      <td>DU MONT BLANC</td>\n",
              "      <td>2</td>\n",
              "      <td>1220.0</td>\n",
              "      <td>DIVONNE-LES-BAINS</td>\n",
              "      <td>1</td>\n",
              "      <td>143</td>\n",
              "      <td>NaN</td>\n",
              "      <td>AK</td>\n",
              "      <td>563</td>\n",
              "      <td>146</td>\n",
              "      <td>130.80</td>\n",
              "      <td>2</td>\n",
              "      <td>2</td>\n",
              "      <td>Appartement</td>\n",
              "      <td>130</td>\n",
              "      <td>6</td>\n",
              "      <td>NaN</td>\n",
              "      <td>NaN</td>\n",
              "      <td>NaN</td>\n",
              "    </tr>\n",
              "    <tr>\n",
              "      <th>3</th>\n",
              "      <td>1</td>\n",
              "      <td>2020-01-06</td>\n",
              "      <td>Vente</td>\n",
              "      <td>429250.0</td>\n",
              "      <td>140.0</td>\n",
              "      <td>NaN</td>\n",
              "      <td>0</td>\n",
              "      <td>RUE</td>\n",
              "      <td>2</td>\n",
              "      <td>DE L'ABBE JOLIVET</td>\n",
              "      <td>3</td>\n",
              "      <td>1630.0</td>\n",
              "      <td>PERON</td>\n",
              "      <td>1</td>\n",
              "      <td>288</td>\n",
              "      <td>NaN</td>\n",
              "      <td>C</td>\n",
              "      <td>2307</td>\n",
              "      <td>11</td>\n",
              "      <td>109.22</td>\n",
              "      <td>1</td>\n",
              "      <td>1</td>\n",
              "      <td>Maison</td>\n",
              "      <td>109</td>\n",
              "      <td>5</td>\n",
              "      <td>NaN</td>\n",
              "      <td>NaN</td>\n",
              "      <td>NaN</td>\n",
              "    </tr>\n",
              "    <tr>\n",
              "      <th>4</th>\n",
              "      <td>1</td>\n",
              "      <td>2020-01-07</td>\n",
              "      <td>Vente</td>\n",
              "      <td>220900.0</td>\n",
              "      <td>39.0</td>\n",
              "      <td>NaN</td>\n",
              "      <td>0</td>\n",
              "      <td>RUE</td>\n",
              "      <td>110</td>\n",
              "      <td>BUFFON</td>\n",
              "      <td>4</td>\n",
              "      <td>1200.0</td>\n",
              "      <td>VALSERHONE</td>\n",
              "      <td>1</td>\n",
              "      <td>33</td>\n",
              "      <td>NaN</td>\n",
              "      <td>AE</td>\n",
              "      <td>440</td>\n",
              "      <td>31</td>\n",
              "      <td>108.65</td>\n",
              "      <td>2</td>\n",
              "      <td>2</td>\n",
              "      <td>Appartement</td>\n",
              "      <td>91</td>\n",
              "      <td>4</td>\n",
              "      <td>NaN</td>\n",
              "      <td>NaN</td>\n",
              "      <td>NaN</td>\n",
              "    </tr>\n",
              "  </tbody>\n",
              "</table>\n",
              "</div>"
            ],
            "text/plain": [
              "   No disposition Date mutation  ... Nature culture speciale  Surface terrain\n",
              "0               1    2020-02-03  ...                     NaN              NaN\n",
              "1               1    2020-01-02  ...                     NaN              NaN\n",
              "2               1    2020-01-08  ...                     NaN              NaN\n",
              "3               1    2020-01-06  ...                     NaN              NaN\n",
              "4               1    2020-01-07  ...                     NaN              NaN\n",
              "\n",
              "[5 rows x 28 columns]"
            ]
          },
          "metadata": {},
          "execution_count": 27
        }
      ]
    },
    {
      "cell_type": "code",
      "metadata": {
        "id": "9ia1fZXWGBHH"
      },
      "source": [
        "df_mutation = df[[\"Date mutation\", \"Valeur fonciere\"]]"
      ],
      "execution_count": null,
      "outputs": []
    },
    {
      "cell_type": "code",
      "metadata": {
        "colab": {
          "base_uri": "https://localhost:8080/",
          "height": 424
        },
        "id": "pVqPZtd2IPqQ",
        "outputId": "7d7cda70-9e73-4055-f3ea-ad9ede64da64"
      },
      "source": [
        "df_mutation.columns = [\"date_mut\", \"prix_mut\"]"
      ],
      "execution_count": null,
      "outputs": [
        {
          "output_type": "execute_result",
          "data": {
            "text/html": [
              "<div>\n",
              "<style scoped>\n",
              "    .dataframe tbody tr th:only-of-type {\n",
              "        vertical-align: middle;\n",
              "    }\n",
              "\n",
              "    .dataframe tbody tr th {\n",
              "        vertical-align: top;\n",
              "    }\n",
              "\n",
              "    .dataframe thead th {\n",
              "        text-align: right;\n",
              "    }\n",
              "</style>\n",
              "<table border=\"1\" class=\"dataframe\">\n",
              "  <thead>\n",
              "    <tr style=\"text-align: right;\">\n",
              "      <th></th>\n",
              "      <th>date_mut</th>\n",
              "      <th>prix_mut</th>\n",
              "    </tr>\n",
              "  </thead>\n",
              "  <tbody>\n",
              "    <tr>\n",
              "      <th>0</th>\n",
              "      <td>2020-02-03</td>\n",
              "      <td>56000.0</td>\n",
              "    </tr>\n",
              "    <tr>\n",
              "      <th>1</th>\n",
              "      <td>2020-01-02</td>\n",
              "      <td>165000.0</td>\n",
              "    </tr>\n",
              "    <tr>\n",
              "      <th>2</th>\n",
              "      <td>2020-01-08</td>\n",
              "      <td>720000.0</td>\n",
              "    </tr>\n",
              "    <tr>\n",
              "      <th>3</th>\n",
              "      <td>2020-01-06</td>\n",
              "      <td>429250.0</td>\n",
              "    </tr>\n",
              "    <tr>\n",
              "      <th>4</th>\n",
              "      <td>2020-01-07</td>\n",
              "      <td>220900.0</td>\n",
              "    </tr>\n",
              "    <tr>\n",
              "      <th>...</th>\n",
              "      <td>...</td>\n",
              "      <td>...</td>\n",
              "    </tr>\n",
              "    <tr>\n",
              "      <th>34164</th>\n",
              "      <td>2020-06-30</td>\n",
              "      <td>1290000.0</td>\n",
              "    </tr>\n",
              "    <tr>\n",
              "      <th>34165</th>\n",
              "      <td>2020-06-30</td>\n",
              "      <td>726000.0</td>\n",
              "    </tr>\n",
              "    <tr>\n",
              "      <th>34166</th>\n",
              "      <td>2020-06-25</td>\n",
              "      <td>420000.0</td>\n",
              "    </tr>\n",
              "    <tr>\n",
              "      <th>34167</th>\n",
              "      <td>2020-06-25</td>\n",
              "      <td>725000.0</td>\n",
              "    </tr>\n",
              "    <tr>\n",
              "      <th>34168</th>\n",
              "      <td>2020-06-11</td>\n",
              "      <td>433000.0</td>\n",
              "    </tr>\n",
              "  </tbody>\n",
              "</table>\n",
              "<p>34151 rows × 2 columns</p>\n",
              "</div>"
            ],
            "text/plain": [
              "        date_mut   prix_mut\n",
              "0     2020-02-03    56000.0\n",
              "1     2020-01-02   165000.0\n",
              "2     2020-01-08   720000.0\n",
              "3     2020-01-06   429250.0\n",
              "4     2020-01-07   220900.0\n",
              "...          ...        ...\n",
              "34164 2020-06-30  1290000.0\n",
              "34165 2020-06-30   726000.0\n",
              "34166 2020-06-25   420000.0\n",
              "34167 2020-06-25   725000.0\n",
              "34168 2020-06-11   433000.0\n",
              "\n",
              "[34151 rows x 2 columns]"
            ]
          },
          "metadata": {},
          "execution_count": 35
        }
      ]
    },
    {
      "cell_type": "code",
      "metadata": {
        "colab": {
          "base_uri": "https://localhost:8080/"
        },
        "id": "GOhskvThJpNS",
        "outputId": "12f35272-4e03-484d-8dd9-059c72c878fb"
      },
      "source": [
        "df_mutation[\"bien_id\"] = df[\"Code departement\"].astype(\"str\") + df[\"Code commune\"].astype(\"str\") \\\n",
        "    + df[\"Prefixe de section\"].astype(\"str\") + df[\"Section\"] + df[\"No plan\"].astype(\"str\") \\\n",
        "    + df[\"1er lot\"].astype(\"str\")"
      ],
      "execution_count": null,
      "outputs": [
        {
          "output_type": "stream",
          "name": "stderr",
          "text": [
            "/usr/local/lib/python3.7/dist-packages/ipykernel_launcher.py:1: SettingWithCopyWarning: \n",
            "A value is trying to be set on a copy of a slice from a DataFrame.\n",
            "Try using .loc[row_indexer,col_indexer] = value instead\n",
            "\n",
            "See the caveats in the documentation: https://pandas.pydata.org/pandas-docs/stable/user_guide/indexing.html#returning-a-view-versus-a-copy\n",
            "  \"\"\"Entry point for launching an IPython kernel.\n"
          ]
        }
      ]
    },
    {
      "cell_type": "code",
      "metadata": {
        "id": "Z91XeZ5Gezij"
      },
      "source": [
        "df_mutation.index = df_mutation.index + 1"
      ],
      "execution_count": null,
      "outputs": []
    },
    {
      "cell_type": "code",
      "metadata": {
        "id": "uLnNOvQ3IgHN"
      },
      "source": [
        "df_mutation.to_csv(\"mutation.csv\")"
      ],
      "execution_count": null,
      "outputs": []
    },
    {
      "cell_type": "code",
      "metadata": {
        "id": "EJK3ZMbaJMUf"
      },
      "source": [
        ""
      ],
      "execution_count": null,
      "outputs": []
    }
  ]
}